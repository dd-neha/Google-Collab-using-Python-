{
  "nbformat": 4,
  "nbformat_minor": 0,
  "metadata": {
    "colab": {
      "name": "Lab Assignment 4.ipynb",
      "provenance": []
    },
    "kernelspec": {
      "name": "python3",
      "display_name": "Python 3"
    },
    "language_info": {
      "name": "python"
    }
  },
  "cells": [
    {
      "cell_type": "code",
      "metadata": {
        "id": "njlbbZoiyH6_"
      },
      "source": [
        "import matplotlib.pyplot as plt\n",
        "import seaborn as sns\n",
        "import numpy as np\n",
        "import pandas as pd\n",
        "import math\n"
      ],
      "execution_count": 110,
      "outputs": []
    },
    {
      "cell_type": "code",
      "metadata": {
        "colab": {
          "base_uri": "https://localhost:8080/",
          "height": 221
        },
        "id": "0-8BUkiMyTlh",
        "outputId": "df050c08-3450-4ac5-9505-731fbb07420f"
      },
      "source": [
        "wineData = pd.read_csv(\"https://raw.githubusercontent.com/rajeevratan84/datascienceforbusiness/master/winequalityN.csv\")\n",
        "wineData.head()"
      ],
      "execution_count": 111,
      "outputs": [
        {
          "output_type": "execute_result",
          "data": {
            "text/html": [
              "<div>\n",
              "<style scoped>\n",
              "    .dataframe tbody tr th:only-of-type {\n",
              "        vertical-align: middle;\n",
              "    }\n",
              "\n",
              "    .dataframe tbody tr th {\n",
              "        vertical-align: top;\n",
              "    }\n",
              "\n",
              "    .dataframe thead th {\n",
              "        text-align: right;\n",
              "    }\n",
              "</style>\n",
              "<table border=\"1\" class=\"dataframe\">\n",
              "  <thead>\n",
              "    <tr style=\"text-align: right;\">\n",
              "      <th></th>\n",
              "      <th>type</th>\n",
              "      <th>fixed acidity</th>\n",
              "      <th>volatile acidity</th>\n",
              "      <th>citric acid</th>\n",
              "      <th>residual sugar</th>\n",
              "      <th>chlorides</th>\n",
              "      <th>free sulfur dioxide</th>\n",
              "      <th>total sulfur dioxide</th>\n",
              "      <th>density</th>\n",
              "      <th>pH</th>\n",
              "      <th>sulphates</th>\n",
              "      <th>alcohol</th>\n",
              "      <th>quality</th>\n",
              "    </tr>\n",
              "  </thead>\n",
              "  <tbody>\n",
              "    <tr>\n",
              "      <th>0</th>\n",
              "      <td>white</td>\n",
              "      <td>7.0</td>\n",
              "      <td>0.27</td>\n",
              "      <td>0.36</td>\n",
              "      <td>20.7</td>\n",
              "      <td>0.045</td>\n",
              "      <td>45.0</td>\n",
              "      <td>170.0</td>\n",
              "      <td>1.0010</td>\n",
              "      <td>3.00</td>\n",
              "      <td>0.45</td>\n",
              "      <td>8.8</td>\n",
              "      <td>6</td>\n",
              "    </tr>\n",
              "    <tr>\n",
              "      <th>1</th>\n",
              "      <td>white</td>\n",
              "      <td>6.3</td>\n",
              "      <td>0.30</td>\n",
              "      <td>0.34</td>\n",
              "      <td>1.6</td>\n",
              "      <td>0.049</td>\n",
              "      <td>14.0</td>\n",
              "      <td>132.0</td>\n",
              "      <td>0.9940</td>\n",
              "      <td>3.30</td>\n",
              "      <td>0.49</td>\n",
              "      <td>9.5</td>\n",
              "      <td>6</td>\n",
              "    </tr>\n",
              "    <tr>\n",
              "      <th>2</th>\n",
              "      <td>white</td>\n",
              "      <td>8.1</td>\n",
              "      <td>0.28</td>\n",
              "      <td>0.40</td>\n",
              "      <td>6.9</td>\n",
              "      <td>0.050</td>\n",
              "      <td>30.0</td>\n",
              "      <td>97.0</td>\n",
              "      <td>0.9951</td>\n",
              "      <td>3.26</td>\n",
              "      <td>0.44</td>\n",
              "      <td>10.1</td>\n",
              "      <td>6</td>\n",
              "    </tr>\n",
              "    <tr>\n",
              "      <th>3</th>\n",
              "      <td>white</td>\n",
              "      <td>7.2</td>\n",
              "      <td>0.23</td>\n",
              "      <td>0.32</td>\n",
              "      <td>8.5</td>\n",
              "      <td>0.058</td>\n",
              "      <td>47.0</td>\n",
              "      <td>186.0</td>\n",
              "      <td>0.9956</td>\n",
              "      <td>3.19</td>\n",
              "      <td>0.40</td>\n",
              "      <td>9.9</td>\n",
              "      <td>6</td>\n",
              "    </tr>\n",
              "    <tr>\n",
              "      <th>4</th>\n",
              "      <td>white</td>\n",
              "      <td>7.2</td>\n",
              "      <td>0.23</td>\n",
              "      <td>0.32</td>\n",
              "      <td>8.5</td>\n",
              "      <td>0.058</td>\n",
              "      <td>47.0</td>\n",
              "      <td>186.0</td>\n",
              "      <td>0.9956</td>\n",
              "      <td>3.19</td>\n",
              "      <td>0.40</td>\n",
              "      <td>9.9</td>\n",
              "      <td>6</td>\n",
              "    </tr>\n",
              "  </tbody>\n",
              "</table>\n",
              "</div>"
            ],
            "text/plain": [
              "    type  fixed acidity  volatile acidity  ...  sulphates  alcohol  quality\n",
              "0  white            7.0              0.27  ...       0.45      8.8        6\n",
              "1  white            6.3              0.30  ...       0.49      9.5        6\n",
              "2  white            8.1              0.28  ...       0.44     10.1        6\n",
              "3  white            7.2              0.23  ...       0.40      9.9        6\n",
              "4  white            7.2              0.23  ...       0.40      9.9        6\n",
              "\n",
              "[5 rows x 13 columns]"
            ]
          },
          "metadata": {
            "tags": []
          },
          "execution_count": 111
        }
      ]
    },
    {
      "cell_type": "code",
      "metadata": {
        "colab": {
          "base_uri": "https://localhost:8080/",
          "height": 314
        },
        "id": "Uv1Nz11_ydvc",
        "outputId": "b688ebd3-c8bf-4988-d339-fb8c6ad0d352"
      },
      "source": [
        "wineData.describe()"
      ],
      "execution_count": 112,
      "outputs": [
        {
          "output_type": "execute_result",
          "data": {
            "text/html": [
              "<div>\n",
              "<style scoped>\n",
              "    .dataframe tbody tr th:only-of-type {\n",
              "        vertical-align: middle;\n",
              "    }\n",
              "\n",
              "    .dataframe tbody tr th {\n",
              "        vertical-align: top;\n",
              "    }\n",
              "\n",
              "    .dataframe thead th {\n",
              "        text-align: right;\n",
              "    }\n",
              "</style>\n",
              "<table border=\"1\" class=\"dataframe\">\n",
              "  <thead>\n",
              "    <tr style=\"text-align: right;\">\n",
              "      <th></th>\n",
              "      <th>fixed acidity</th>\n",
              "      <th>volatile acidity</th>\n",
              "      <th>citric acid</th>\n",
              "      <th>residual sugar</th>\n",
              "      <th>chlorides</th>\n",
              "      <th>free sulfur dioxide</th>\n",
              "      <th>total sulfur dioxide</th>\n",
              "      <th>density</th>\n",
              "      <th>pH</th>\n",
              "      <th>sulphates</th>\n",
              "      <th>alcohol</th>\n",
              "      <th>quality</th>\n",
              "    </tr>\n",
              "  </thead>\n",
              "  <tbody>\n",
              "    <tr>\n",
              "      <th>count</th>\n",
              "      <td>6487.000000</td>\n",
              "      <td>6489.000000</td>\n",
              "      <td>6494.000000</td>\n",
              "      <td>6495.000000</td>\n",
              "      <td>6495.000000</td>\n",
              "      <td>6497.000000</td>\n",
              "      <td>6497.000000</td>\n",
              "      <td>6497.000000</td>\n",
              "      <td>6488.000000</td>\n",
              "      <td>6493.000000</td>\n",
              "      <td>6497.000000</td>\n",
              "      <td>6497.000000</td>\n",
              "    </tr>\n",
              "    <tr>\n",
              "      <th>mean</th>\n",
              "      <td>7.216579</td>\n",
              "      <td>0.339691</td>\n",
              "      <td>0.318722</td>\n",
              "      <td>5.444326</td>\n",
              "      <td>0.056042</td>\n",
              "      <td>30.525319</td>\n",
              "      <td>115.744574</td>\n",
              "      <td>0.994697</td>\n",
              "      <td>3.218395</td>\n",
              "      <td>0.531215</td>\n",
              "      <td>10.491801</td>\n",
              "      <td>5.818378</td>\n",
              "    </tr>\n",
              "    <tr>\n",
              "      <th>std</th>\n",
              "      <td>1.296750</td>\n",
              "      <td>0.164649</td>\n",
              "      <td>0.145265</td>\n",
              "      <td>4.758125</td>\n",
              "      <td>0.035036</td>\n",
              "      <td>17.749400</td>\n",
              "      <td>56.521855</td>\n",
              "      <td>0.002999</td>\n",
              "      <td>0.160748</td>\n",
              "      <td>0.148814</td>\n",
              "      <td>1.192712</td>\n",
              "      <td>0.873255</td>\n",
              "    </tr>\n",
              "    <tr>\n",
              "      <th>min</th>\n",
              "      <td>3.800000</td>\n",
              "      <td>0.080000</td>\n",
              "      <td>0.000000</td>\n",
              "      <td>0.600000</td>\n",
              "      <td>0.009000</td>\n",
              "      <td>1.000000</td>\n",
              "      <td>6.000000</td>\n",
              "      <td>0.987110</td>\n",
              "      <td>2.720000</td>\n",
              "      <td>0.220000</td>\n",
              "      <td>8.000000</td>\n",
              "      <td>3.000000</td>\n",
              "    </tr>\n",
              "    <tr>\n",
              "      <th>25%</th>\n",
              "      <td>6.400000</td>\n",
              "      <td>0.230000</td>\n",
              "      <td>0.250000</td>\n",
              "      <td>1.800000</td>\n",
              "      <td>0.038000</td>\n",
              "      <td>17.000000</td>\n",
              "      <td>77.000000</td>\n",
              "      <td>0.992340</td>\n",
              "      <td>3.110000</td>\n",
              "      <td>0.430000</td>\n",
              "      <td>9.500000</td>\n",
              "      <td>5.000000</td>\n",
              "    </tr>\n",
              "    <tr>\n",
              "      <th>50%</th>\n",
              "      <td>7.000000</td>\n",
              "      <td>0.290000</td>\n",
              "      <td>0.310000</td>\n",
              "      <td>3.000000</td>\n",
              "      <td>0.047000</td>\n",
              "      <td>29.000000</td>\n",
              "      <td>118.000000</td>\n",
              "      <td>0.994890</td>\n",
              "      <td>3.210000</td>\n",
              "      <td>0.510000</td>\n",
              "      <td>10.300000</td>\n",
              "      <td>6.000000</td>\n",
              "    </tr>\n",
              "    <tr>\n",
              "      <th>75%</th>\n",
              "      <td>7.700000</td>\n",
              "      <td>0.400000</td>\n",
              "      <td>0.390000</td>\n",
              "      <td>8.100000</td>\n",
              "      <td>0.065000</td>\n",
              "      <td>41.000000</td>\n",
              "      <td>156.000000</td>\n",
              "      <td>0.996990</td>\n",
              "      <td>3.320000</td>\n",
              "      <td>0.600000</td>\n",
              "      <td>11.300000</td>\n",
              "      <td>6.000000</td>\n",
              "    </tr>\n",
              "    <tr>\n",
              "      <th>max</th>\n",
              "      <td>15.900000</td>\n",
              "      <td>1.580000</td>\n",
              "      <td>1.660000</td>\n",
              "      <td>65.800000</td>\n",
              "      <td>0.611000</td>\n",
              "      <td>289.000000</td>\n",
              "      <td>440.000000</td>\n",
              "      <td>1.038980</td>\n",
              "      <td>4.010000</td>\n",
              "      <td>2.000000</td>\n",
              "      <td>14.900000</td>\n",
              "      <td>9.000000</td>\n",
              "    </tr>\n",
              "  </tbody>\n",
              "</table>\n",
              "</div>"
            ],
            "text/plain": [
              "       fixed acidity  volatile acidity  ...      alcohol      quality\n",
              "count    6487.000000       6489.000000  ...  6497.000000  6497.000000\n",
              "mean        7.216579          0.339691  ...    10.491801     5.818378\n",
              "std         1.296750          0.164649  ...     1.192712     0.873255\n",
              "min         3.800000          0.080000  ...     8.000000     3.000000\n",
              "25%         6.400000          0.230000  ...     9.500000     5.000000\n",
              "50%         7.000000          0.290000  ...    10.300000     6.000000\n",
              "75%         7.700000          0.400000  ...    11.300000     6.000000\n",
              "max        15.900000          1.580000  ...    14.900000     9.000000\n",
              "\n",
              "[8 rows x 12 columns]"
            ]
          },
          "metadata": {
            "tags": []
          },
          "execution_count": 112
        }
      ]
    },
    {
      "cell_type": "code",
      "metadata": {
        "colab": {
          "base_uri": "https://localhost:8080/"
        },
        "id": "bZ2oUdDNyku7",
        "outputId": "a8700895-67d3-414c-be55-7384ad9913f2"
      },
      "source": [
        "wineData.info()\n"
      ],
      "execution_count": 113,
      "outputs": [
        {
          "output_type": "stream",
          "text": [
            "<class 'pandas.core.frame.DataFrame'>\n",
            "RangeIndex: 6497 entries, 0 to 6496\n",
            "Data columns (total 13 columns):\n",
            " #   Column                Non-Null Count  Dtype  \n",
            "---  ------                --------------  -----  \n",
            " 0   type                  6497 non-null   object \n",
            " 1   fixed acidity         6487 non-null   float64\n",
            " 2   volatile acidity      6489 non-null   float64\n",
            " 3   citric acid           6494 non-null   float64\n",
            " 4   residual sugar        6495 non-null   float64\n",
            " 5   chlorides             6495 non-null   float64\n",
            " 6   free sulfur dioxide   6497 non-null   float64\n",
            " 7   total sulfur dioxide  6497 non-null   float64\n",
            " 8   density               6497 non-null   float64\n",
            " 9   pH                    6488 non-null   float64\n",
            " 10  sulphates             6493 non-null   float64\n",
            " 11  alcohol               6497 non-null   float64\n",
            " 12  quality               6497 non-null   int64  \n",
            "dtypes: float64(11), int64(1), object(1)\n",
            "memory usage: 660.0+ KB\n"
          ],
          "name": "stdout"
        }
      ]
    },
    {
      "cell_type": "code",
      "metadata": {
        "colab": {
          "base_uri": "https://localhost:8080/",
          "height": 221
        },
        "id": "dbEg8zkJywTG",
        "outputId": "e7756bee-72c5-4f44-aa6c-f81c1afe8a80"
      },
      "source": [
        "#Set a seed so that your results are reproduced identically each time you run this notebook\n",
        "np.random.seed(370)\n",
        "#We randomly shuffle the indices of the original data frame\n",
        "shuffledIndices = np.random.permutation(list(range(0, len(wineData))))\n",
        "train_ind = shuffledIndices[ : math.floor(0.75*len(wineData))]\n",
        "\n",
        "test_ind = shuffledIndices[math.floor(0.75*len(wineData)) : math.floor(0.9*len(wineData))]\n",
        "safe_ind = shuffledIndices[math.floor(0.9*len(wineData)) : ]\n",
        "\n",
        "train = wineData.iloc[train_ind, ]\n",
        "test = wineData.iloc[test_ind, ]\n",
        "safe = wineData.iloc[safe_ind, ]\n",
        "\n",
        "train.head()"
      ],
      "execution_count": 114,
      "outputs": [
        {
          "output_type": "execute_result",
          "data": {
            "text/html": [
              "<div>\n",
              "<style scoped>\n",
              "    .dataframe tbody tr th:only-of-type {\n",
              "        vertical-align: middle;\n",
              "    }\n",
              "\n",
              "    .dataframe tbody tr th {\n",
              "        vertical-align: top;\n",
              "    }\n",
              "\n",
              "    .dataframe thead th {\n",
              "        text-align: right;\n",
              "    }\n",
              "</style>\n",
              "<table border=\"1\" class=\"dataframe\">\n",
              "  <thead>\n",
              "    <tr style=\"text-align: right;\">\n",
              "      <th></th>\n",
              "      <th>type</th>\n",
              "      <th>fixed acidity</th>\n",
              "      <th>volatile acidity</th>\n",
              "      <th>citric acid</th>\n",
              "      <th>residual sugar</th>\n",
              "      <th>chlorides</th>\n",
              "      <th>free sulfur dioxide</th>\n",
              "      <th>total sulfur dioxide</th>\n",
              "      <th>density</th>\n",
              "      <th>pH</th>\n",
              "      <th>sulphates</th>\n",
              "      <th>alcohol</th>\n",
              "      <th>quality</th>\n",
              "    </tr>\n",
              "  </thead>\n",
              "  <tbody>\n",
              "    <tr>\n",
              "      <th>1501</th>\n",
              "      <td>white</td>\n",
              "      <td>8.3</td>\n",
              "      <td>0.200</td>\n",
              "      <td>0.49</td>\n",
              "      <td>1.7</td>\n",
              "      <td>0.040</td>\n",
              "      <td>34.0</td>\n",
              "      <td>169.0</td>\n",
              "      <td>0.99380</td>\n",
              "      <td>3.05</td>\n",
              "      <td>0.37</td>\n",
              "      <td>10.1</td>\n",
              "      <td>5</td>\n",
              "    </tr>\n",
              "    <tr>\n",
              "      <th>1951</th>\n",
              "      <td>white</td>\n",
              "      <td>9.9</td>\n",
              "      <td>1.005</td>\n",
              "      <td>0.46</td>\n",
              "      <td>1.4</td>\n",
              "      <td>0.046</td>\n",
              "      <td>34.0</td>\n",
              "      <td>185.0</td>\n",
              "      <td>0.99660</td>\n",
              "      <td>3.02</td>\n",
              "      <td>0.49</td>\n",
              "      <td>10.2</td>\n",
              "      <td>4</td>\n",
              "    </tr>\n",
              "    <tr>\n",
              "      <th>3288</th>\n",
              "      <td>white</td>\n",
              "      <td>6.6</td>\n",
              "      <td>0.200</td>\n",
              "      <td>0.14</td>\n",
              "      <td>4.4</td>\n",
              "      <td>0.184</td>\n",
              "      <td>35.0</td>\n",
              "      <td>168.0</td>\n",
              "      <td>0.99396</td>\n",
              "      <td>2.93</td>\n",
              "      <td>0.45</td>\n",
              "      <td>9.4</td>\n",
              "      <td>6</td>\n",
              "    </tr>\n",
              "    <tr>\n",
              "      <th>6217</th>\n",
              "      <td>red</td>\n",
              "      <td>9.1</td>\n",
              "      <td>0.760</td>\n",
              "      <td>0.68</td>\n",
              "      <td>1.7</td>\n",
              "      <td>0.414</td>\n",
              "      <td>18.0</td>\n",
              "      <td>64.0</td>\n",
              "      <td>0.99652</td>\n",
              "      <td>2.90</td>\n",
              "      <td>1.33</td>\n",
              "      <td>9.1</td>\n",
              "      <td>6</td>\n",
              "    </tr>\n",
              "    <tr>\n",
              "      <th>5799</th>\n",
              "      <td>red</td>\n",
              "      <td>7.4</td>\n",
              "      <td>0.635</td>\n",
              "      <td>0.10</td>\n",
              "      <td>2.4</td>\n",
              "      <td>0.080</td>\n",
              "      <td>16.0</td>\n",
              "      <td>33.0</td>\n",
              "      <td>0.99736</td>\n",
              "      <td>3.58</td>\n",
              "      <td>0.69</td>\n",
              "      <td>10.8</td>\n",
              "      <td>7</td>\n",
              "    </tr>\n",
              "  </tbody>\n",
              "</table>\n",
              "</div>"
            ],
            "text/plain": [
              "       type  fixed acidity  volatile acidity  ...  sulphates  alcohol  quality\n",
              "1501  white            8.3             0.200  ...       0.37     10.1        5\n",
              "1951  white            9.9             1.005  ...       0.49     10.2        4\n",
              "3288  white            6.6             0.200  ...       0.45      9.4        6\n",
              "6217    red            9.1             0.760  ...       1.33      9.1        6\n",
              "5799    red            7.4             0.635  ...       0.69     10.8        7\n",
              "\n",
              "[5 rows x 13 columns]"
            ]
          },
          "metadata": {
            "tags": []
          },
          "execution_count": 114
        }
      ]
    },
    {
      "cell_type": "markdown",
      "metadata": {
        "id": "kTGPXyoRWeRj"
      },
      "source": [
        "First We will count the quality by using the countplot.\n"
      ]
    },
    {
      "cell_type": "code",
      "metadata": {
        "colab": {
          "base_uri": "https://localhost:8080/",
          "height": 296
        },
        "id": "GUoGzt5AWYc0",
        "outputId": "658be834-36fa-4baa-e2c0-71e503cb04fd"
      },
      "source": [
        "sns.countplot(x = \"quality\", data = train)"
      ],
      "execution_count": 115,
      "outputs": [
        {
          "output_type": "execute_result",
          "data": {
            "text/plain": [
              "<matplotlib.axes._subplots.AxesSubplot at 0x7f9b12687750>"
            ]
          },
          "metadata": {
            "tags": []
          },
          "execution_count": 115
        },
        {
          "output_type": "display_data",
          "data": {
            "image/png": "[encoded data removed]",
            "text/plain": [
              "<Figure size 432x288 with 1 Axes>"
            ]
          },
          "metadata": {
            "tags": [],
            "needs_background": "light"
          }
        }
      ]
    },
    {
      "cell_type": "markdown",
      "metadata": {
        "id": "6YDb6REUobMl"
      },
      "source": [
        "This Chart includes the Wine type vs quality count by using the bar graph."
      ]
    },
    {
      "cell_type": "code",
      "metadata": {
        "colab": {
          "base_uri": "https://localhost:8080/",
          "height": 296
        },
        "id": "9_q2IHv_d_it",
        "outputId": "5860a889-3512-4f9f-d835-bdb13c9db2a1"
      },
      "source": [
        "sns.countplot(x = \"quality\", hue = \"type\", data = safe)"
      ],
      "execution_count": 116,
      "outputs": [
        {
          "output_type": "execute_result",
          "data": {
            "text/plain": [
              "<matplotlib.axes._subplots.AxesSubplot at 0x7f9b1258bcd0>"
            ]
          },
          "metadata": {
            "tags": []
          },
          "execution_count": 116
        },
        {
          "output_type": "display_data",
          "data": {
            "image/png": "[encoded data removed]",
            "text/plain": [
              "<Figure size 432x288 with 1 Axes>"
            ]
          },
          "metadata": {
            "tags": [],
            "needs_background": "light"
          }
        }
      ]
    },
    {
      "cell_type": "markdown",
      "metadata": {
        "id": "cXzqzXbRBCMA"
      },
      "source": [
        " Highlighted the maximum and minimum values with colours."
      ]
    },
    {
      "cell_type": "code",
      "metadata": {
        "colab": {
          "base_uri": "https://localhost:8080/",
          "height": 292
        },
        "id": "7IriF4ws--77",
        "outputId": "31dfd334-2f84-4078-a6a6-a36bf740573e"
      },
      "source": [
        "#wineData.head()\n",
        "#format_dict = {'wineData':'{:%m-%Y}'} #Simplified format dictionary with values that do make sense for our data\n",
        "wineData.head(12).style.format(format_dict).highlight_max(color='pink').highlight_min(color='#33ACFF')\n"
      ],
      "execution_count": 117,
      "outputs": [
        {
          "output_type": "execute_result",
          "data": {
            "text/html": [
              "<style  type=\"text/css\" >\n",
              "#T_946ee4c6_f884_11eb_b495_0242ac1c0002row0_col4,#T_946ee4c6_f884_11eb_b495_0242ac1c0002row0_col8,#T_946ee4c6_f884_11eb_b495_0242ac1c0002row0_col12,#T_946ee4c6_f884_11eb_b495_0242ac1c0002row1_col9,#T_946ee4c6_f884_11eb_b495_0242ac1c0002row1_col12,#T_946ee4c6_f884_11eb_b495_0242ac1c0002row2_col12,#T_946ee4c6_f884_11eb_b495_0242ac1c0002row3_col5,#T_946ee4c6_f884_11eb_b495_0242ac1c0002row3_col6,#T_946ee4c6_f884_11eb_b495_0242ac1c0002row3_col7,#T_946ee4c6_f884_11eb_b495_0242ac1c0002row3_col12,#T_946ee4c6_f884_11eb_b495_0242ac1c0002row4_col5,#T_946ee4c6_f884_11eb_b495_0242ac1c0002row4_col6,#T_946ee4c6_f884_11eb_b495_0242ac1c0002row4_col7,#T_946ee4c6_f884_11eb_b495_0242ac1c0002row4_col12,#T_946ee4c6_f884_11eb_b495_0242ac1c0002row5_col12,#T_946ee4c6_f884_11eb_b495_0242ac1c0002row6_col2,#T_946ee4c6_f884_11eb_b495_0242ac1c0002row6_col12,#T_946ee4c6_f884_11eb_b495_0242ac1c0002row7_col4,#T_946ee4c6_f884_11eb_b495_0242ac1c0002row7_col8,#T_946ee4c6_f884_11eb_b495_0242ac1c0002row7_col12,#T_946ee4c6_f884_11eb_b495_0242ac1c0002row8_col9,#T_946ee4c6_f884_11eb_b495_0242ac1c0002row8_col12,#T_946ee4c6_f884_11eb_b495_0242ac1c0002row9_col3,#T_946ee4c6_f884_11eb_b495_0242ac1c0002row9_col12,#T_946ee4c6_f884_11eb_b495_0242ac1c0002row10_col10,#T_946ee4c6_f884_11eb_b495_0242ac1c0002row10_col11,#T_946ee4c6_f884_11eb_b495_0242ac1c0002row11_col1{\n",
              "            background-color:  pink;\n",
              "        }#T_946ee4c6_f884_11eb_b495_0242ac1c0002row0_col11,#T_946ee4c6_f884_11eb_b495_0242ac1c0002row3_col10,#T_946ee4c6_f884_11eb_b495_0242ac1c0002row4_col10,#T_946ee4c6_f884_11eb_b495_0242ac1c0002row6_col1,#T_946ee4c6_f884_11eb_b495_0242ac1c0002row6_col3,#T_946ee4c6_f884_11eb_b495_0242ac1c0002row7_col11,#T_946ee4c6_f884_11eb_b495_0242ac1c0002row9_col2,#T_946ee4c6_f884_11eb_b495_0242ac1c0002row10_col4,#T_946ee4c6_f884_11eb_b495_0242ac1c0002row10_col5,#T_946ee4c6_f884_11eb_b495_0242ac1c0002row10_col6,#T_946ee4c6_f884_11eb_b495_0242ac1c0002row10_col7,#T_946ee4c6_f884_11eb_b495_0242ac1c0002row10_col8,#T_946ee4c6_f884_11eb_b495_0242ac1c0002row10_col9,#T_946ee4c6_f884_11eb_b495_0242ac1c0002row10_col12,#T_946ee4c6_f884_11eb_b495_0242ac1c0002row11_col12{\n",
              "            background-color:  #33ACFF;\n",
              "        }</style><table id=\"T_946ee4c6_f884_11eb_b495_0242ac1c0002\" ><thead>    <tr>        <th class=\"blank level0\" ></th>        <th class=\"col_heading level0 col0\" >type</th>        <th class=\"col_heading level0 col1\" >fixed acidity</th>        <th class=\"col_heading level0 col2\" >volatile acidity</th>        <th class=\"col_heading level0 col3\" >citric acid</th>        <th class=\"col_heading level0 col4\" >residual sugar</th>        <th class=\"col_heading level0 col5\" >chlorides</th>        <th class=\"col_heading level0 col6\" >free sulfur dioxide</th>        <th class=\"col_heading level0 col7\" >total sulfur dioxide</th>        <th class=\"col_heading level0 col8\" >density</th>        <th class=\"col_heading level0 col9\" >pH</th>        <th class=\"col_heading level0 col10\" >sulphates</th>        <th class=\"col_heading level0 col11\" >alcohol</th>        <th class=\"col_heading level0 col12\" >quality</th>    </tr></thead><tbody>\n",
              "                <tr>\n",
              "                        <th id=\"T_946ee4c6_f884_11eb_b495_0242ac1c0002level0_row0\" class=\"row_heading level0 row0\" >0</th>\n",
              "                        <td id=\"T_946ee4c6_f884_11eb_b495_0242ac1c0002row0_col0\" class=\"data row0 col0\" >white</td>\n",
              "                        <td id=\"T_946ee4c6_f884_11eb_b495_0242ac1c0002row0_col1\" class=\"data row0 col1\" >7.000000</td>\n",
              "                        <td id=\"T_946ee4c6_f884_11eb_b495_0242ac1c0002row0_col2\" class=\"data row0 col2\" >0.270000</td>\n",
              "                        <td id=\"T_946ee4c6_f884_11eb_b495_0242ac1c0002row0_col3\" class=\"data row0 col3\" >0.360000</td>\n",
              "                        <td id=\"T_946ee4c6_f884_11eb_b495_0242ac1c0002row0_col4\" class=\"data row0 col4\" >20.700000</td>\n",
              "                        <td id=\"T_946ee4c6_f884_11eb_b495_0242ac1c0002row0_col5\" class=\"data row0 col5\" >0.045000</td>\n",
              "                        <td id=\"T_946ee4c6_f884_11eb_b495_0242ac1c0002row0_col6\" class=\"data row0 col6\" >45.000000</td>\n",
              "                        <td id=\"T_946ee4c6_f884_11eb_b495_0242ac1c0002row0_col7\" class=\"data row0 col7\" >170.000000</td>\n",
              "                        <td id=\"T_946ee4c6_f884_11eb_b495_0242ac1c0002row0_col8\" class=\"data row0 col8\" >1.001000</td>\n",
              "                        <td id=\"T_946ee4c6_f884_11eb_b495_0242ac1c0002row0_col9\" class=\"data row0 col9\" >3.000000</td>\n",
              "                        <td id=\"T_946ee4c6_f884_11eb_b495_0242ac1c0002row0_col10\" class=\"data row0 col10\" >0.450000</td>\n",
              "                        <td id=\"T_946ee4c6_f884_11eb_b495_0242ac1c0002row0_col11\" class=\"data row0 col11\" >8.800000</td>\n",
              "                        <td id=\"T_946ee4c6_f884_11eb_b495_0242ac1c0002row0_col12\" class=\"data row0 col12\" >6</td>\n",
              "            </tr>\n",
              "            <tr>\n",
              "                        <th id=\"T_946ee4c6_f884_11eb_b495_0242ac1c0002level0_row1\" class=\"row_heading level0 row1\" >1</th>\n",
              "                        <td id=\"T_946ee4c6_f884_11eb_b495_0242ac1c0002row1_col0\" class=\"data row1 col0\" >white</td>\n",
              "                        <td id=\"T_946ee4c6_f884_11eb_b495_0242ac1c0002row1_col1\" class=\"data row1 col1\" >6.300000</td>\n",
              "                        <td id=\"T_946ee4c6_f884_11eb_b495_0242ac1c0002row1_col2\" class=\"data row1 col2\" >0.300000</td>\n",
              "                        <td id=\"T_946ee4c6_f884_11eb_b495_0242ac1c0002row1_col3\" class=\"data row1 col3\" >0.340000</td>\n",
              "                        <td id=\"T_946ee4c6_f884_11eb_b495_0242ac1c0002row1_col4\" class=\"data row1 col4\" >1.600000</td>\n",
              "                        <td id=\"T_946ee4c6_f884_11eb_b495_0242ac1c0002row1_col5\" class=\"data row1 col5\" >0.049000</td>\n",
              "                        <td id=\"T_946ee4c6_f884_11eb_b495_0242ac1c0002row1_col6\" class=\"data row1 col6\" >14.000000</td>\n",
              "                        <td id=\"T_946ee4c6_f884_11eb_b495_0242ac1c0002row1_col7\" class=\"data row1 col7\" >132.000000</td>\n",
              "                        <td id=\"T_946ee4c6_f884_11eb_b495_0242ac1c0002row1_col8\" class=\"data row1 col8\" >0.994000</td>\n",
              "                        <td id=\"T_946ee4c6_f884_11eb_b495_0242ac1c0002row1_col9\" class=\"data row1 col9\" >3.300000</td>\n",
              "                        <td id=\"T_946ee4c6_f884_11eb_b495_0242ac1c0002row1_col10\" class=\"data row1 col10\" >0.490000</td>\n",
              "                        <td id=\"T_946ee4c6_f884_11eb_b495_0242ac1c0002row1_col11\" class=\"data row1 col11\" >9.500000</td>\n",
              "                        <td id=\"T_946ee4c6_f884_11eb_b495_0242ac1c0002row1_col12\" class=\"data row1 col12\" >6</td>\n",
              "            </tr>\n",
              "            <tr>\n",
              "                        <th id=\"T_946ee4c6_f884_11eb_b495_0242ac1c0002level0_row2\" class=\"row_heading level0 row2\" >2</th>\n",
              "                        <td id=\"T_946ee4c6_f884_11eb_b495_0242ac1c0002row2_col0\" class=\"data row2 col0\" >white</td>\n",
              "                        <td id=\"T_946ee4c6_f884_11eb_b495_0242ac1c0002row2_col1\" class=\"data row2 col1\" >8.100000</td>\n",
              "                        <td id=\"T_946ee4c6_f884_11eb_b495_0242ac1c0002row2_col2\" class=\"data row2 col2\" >0.280000</td>\n",
              "                        <td id=\"T_946ee4c6_f884_11eb_b495_0242ac1c0002row2_col3\" class=\"data row2 col3\" >0.400000</td>\n",
              "                        <td id=\"T_946ee4c6_f884_11eb_b495_0242ac1c0002row2_col4\" class=\"data row2 col4\" >6.900000</td>\n",
              "                        <td id=\"T_946ee4c6_f884_11eb_b495_0242ac1c0002row2_col5\" class=\"data row2 col5\" >0.050000</td>\n",
              "                        <td id=\"T_946ee4c6_f884_11eb_b495_0242ac1c0002row2_col6\" class=\"data row2 col6\" >30.000000</td>\n",
              "                        <td id=\"T_946ee4c6_f884_11eb_b495_0242ac1c0002row2_col7\" class=\"data row2 col7\" >97.000000</td>\n",
              "                        <td id=\"T_946ee4c6_f884_11eb_b495_0242ac1c0002row2_col8\" class=\"data row2 col8\" >0.995100</td>\n",
              "                        <td id=\"T_946ee4c6_f884_11eb_b495_0242ac1c0002row2_col9\" class=\"data row2 col9\" >3.260000</td>\n",
              "                        <td id=\"T_946ee4c6_f884_11eb_b495_0242ac1c0002row2_col10\" class=\"data row2 col10\" >0.440000</td>\n",
              "                        <td id=\"T_946ee4c6_f884_11eb_b495_0242ac1c0002row2_col11\" class=\"data row2 col11\" >10.100000</td>\n",
              "                        <td id=\"T_946ee4c6_f884_11eb_b495_0242ac1c0002row2_col12\" class=\"data row2 col12\" >6</td>\n",
              "            </tr>\n",
              "            <tr>\n",
              "                        <th id=\"T_946ee4c6_f884_11eb_b495_0242ac1c0002level0_row3\" class=\"row_heading level0 row3\" >3</th>\n",
              "                        <td id=\"T_946ee4c6_f884_11eb_b495_0242ac1c0002row3_col0\" class=\"data row3 col0\" >white</td>\n",
              "                        <td id=\"T_946ee4c6_f884_11eb_b495_0242ac1c0002row3_col1\" class=\"data row3 col1\" >7.200000</td>\n",
              "                        <td id=\"T_946ee4c6_f884_11eb_b495_0242ac1c0002row3_col2\" class=\"data row3 col2\" >0.230000</td>\n",
              "                        <td id=\"T_946ee4c6_f884_11eb_b495_0242ac1c0002row3_col3\" class=\"data row3 col3\" >0.320000</td>\n",
              "                        <td id=\"T_946ee4c6_f884_11eb_b495_0242ac1c0002row3_col4\" class=\"data row3 col4\" >8.500000</td>\n",
              "                        <td id=\"T_946ee4c6_f884_11eb_b495_0242ac1c0002row3_col5\" class=\"data row3 col5\" >0.058000</td>\n",
              "                        <td id=\"T_946ee4c6_f884_11eb_b495_0242ac1c0002row3_col6\" class=\"data row3 col6\" >47.000000</td>\n",
              "                        <td id=\"T_946ee4c6_f884_11eb_b495_0242ac1c0002row3_col7\" class=\"data row3 col7\" >186.000000</td>\n",
              "                        <td id=\"T_946ee4c6_f884_11eb_b495_0242ac1c0002row3_col8\" class=\"data row3 col8\" >0.995600</td>\n",
              "                        <td id=\"T_946ee4c6_f884_11eb_b495_0242ac1c0002row3_col9\" class=\"data row3 col9\" >3.190000</td>\n",
              "                        <td id=\"T_946ee4c6_f884_11eb_b495_0242ac1c0002row3_col10\" class=\"data row3 col10\" >0.400000</td>\n",
              "                        <td id=\"T_946ee4c6_f884_11eb_b495_0242ac1c0002row3_col11\" class=\"data row3 col11\" >9.900000</td>\n",
              "                        <td id=\"T_946ee4c6_f884_11eb_b495_0242ac1c0002row3_col12\" class=\"data row3 col12\" >6</td>\n",
              "            </tr>\n",
              "            <tr>\n",
              "                        <th id=\"T_946ee4c6_f884_11eb_b495_0242ac1c0002level0_row4\" class=\"row_heading level0 row4\" >4</th>\n",
              "                        <td id=\"T_946ee4c6_f884_11eb_b495_0242ac1c0002row4_col0\" class=\"data row4 col0\" >white</td>\n",
              "                        <td id=\"T_946ee4c6_f884_11eb_b495_0242ac1c0002row4_col1\" class=\"data row4 col1\" >7.200000</td>\n",
              "                        <td id=\"T_946ee4c6_f884_11eb_b495_0242ac1c0002row4_col2\" class=\"data row4 col2\" >0.230000</td>\n",
              "                        <td id=\"T_946ee4c6_f884_11eb_b495_0242ac1c0002row4_col3\" class=\"data row4 col3\" >0.320000</td>\n",
              "                        <td id=\"T_946ee4c6_f884_11eb_b495_0242ac1c0002row4_col4\" class=\"data row4 col4\" >8.500000</td>\n",
              "                        <td id=\"T_946ee4c6_f884_11eb_b495_0242ac1c0002row4_col5\" class=\"data row4 col5\" >0.058000</td>\n",
              "                        <td id=\"T_946ee4c6_f884_11eb_b495_0242ac1c0002row4_col6\" class=\"data row4 col6\" >47.000000</td>\n",
              "                        <td id=\"T_946ee4c6_f884_11eb_b495_0242ac1c0002row4_col7\" class=\"data row4 col7\" >186.000000</td>\n",
              "                        <td id=\"T_946ee4c6_f884_11eb_b495_0242ac1c0002row4_col8\" class=\"data row4 col8\" >0.995600</td>\n",
              "                        <td id=\"T_946ee4c6_f884_11eb_b495_0242ac1c0002row4_col9\" class=\"data row4 col9\" >3.190000</td>\n",
              "                        <td id=\"T_946ee4c6_f884_11eb_b495_0242ac1c0002row4_col10\" class=\"data row4 col10\" >0.400000</td>\n",
              "                        <td id=\"T_946ee4c6_f884_11eb_b495_0242ac1c0002row4_col11\" class=\"data row4 col11\" >9.900000</td>\n",
              "                        <td id=\"T_946ee4c6_f884_11eb_b495_0242ac1c0002row4_col12\" class=\"data row4 col12\" >6</td>\n",
              "            </tr>\n",
              "            <tr>\n",
              "                        <th id=\"T_946ee4c6_f884_11eb_b495_0242ac1c0002level0_row5\" class=\"row_heading level0 row5\" >5</th>\n",
              "                        <td id=\"T_946ee4c6_f884_11eb_b495_0242ac1c0002row5_col0\" class=\"data row5 col0\" >white</td>\n",
              "                        <td id=\"T_946ee4c6_f884_11eb_b495_0242ac1c0002row5_col1\" class=\"data row5 col1\" >8.100000</td>\n",
              "                        <td id=\"T_946ee4c6_f884_11eb_b495_0242ac1c0002row5_col2\" class=\"data row5 col2\" >0.280000</td>\n",
              "                        <td id=\"T_946ee4c6_f884_11eb_b495_0242ac1c0002row5_col3\" class=\"data row5 col3\" >0.400000</td>\n",
              "                        <td id=\"T_946ee4c6_f884_11eb_b495_0242ac1c0002row5_col4\" class=\"data row5 col4\" >6.900000</td>\n",
              "                        <td id=\"T_946ee4c6_f884_11eb_b495_0242ac1c0002row5_col5\" class=\"data row5 col5\" >0.050000</td>\n",
              "                        <td id=\"T_946ee4c6_f884_11eb_b495_0242ac1c0002row5_col6\" class=\"data row5 col6\" >30.000000</td>\n",
              "                        <td id=\"T_946ee4c6_f884_11eb_b495_0242ac1c0002row5_col7\" class=\"data row5 col7\" >97.000000</td>\n",
              "                        <td id=\"T_946ee4c6_f884_11eb_b495_0242ac1c0002row5_col8\" class=\"data row5 col8\" >0.995100</td>\n",
              "                        <td id=\"T_946ee4c6_f884_11eb_b495_0242ac1c0002row5_col9\" class=\"data row5 col9\" >3.260000</td>\n",
              "                        <td id=\"T_946ee4c6_f884_11eb_b495_0242ac1c0002row5_col10\" class=\"data row5 col10\" >0.440000</td>\n",
              "                        <td id=\"T_946ee4c6_f884_11eb_b495_0242ac1c0002row5_col11\" class=\"data row5 col11\" >10.100000</td>\n",
              "                        <td id=\"T_946ee4c6_f884_11eb_b495_0242ac1c0002row5_col12\" class=\"data row5 col12\" >6</td>\n",
              "            </tr>\n",
              "            <tr>\n",
              "                        <th id=\"T_946ee4c6_f884_11eb_b495_0242ac1c0002level0_row6\" class=\"row_heading level0 row6\" >6</th>\n",
              "                        <td id=\"T_946ee4c6_f884_11eb_b495_0242ac1c0002row6_col0\" class=\"data row6 col0\" >white</td>\n",
              "                        <td id=\"T_946ee4c6_f884_11eb_b495_0242ac1c0002row6_col1\" class=\"data row6 col1\" >6.200000</td>\n",
              "                        <td id=\"T_946ee4c6_f884_11eb_b495_0242ac1c0002row6_col2\" class=\"data row6 col2\" >0.320000</td>\n",
              "                        <td id=\"T_946ee4c6_f884_11eb_b495_0242ac1c0002row6_col3\" class=\"data row6 col3\" >0.160000</td>\n",
              "                        <td id=\"T_946ee4c6_f884_11eb_b495_0242ac1c0002row6_col4\" class=\"data row6 col4\" >7.000000</td>\n",
              "                        <td id=\"T_946ee4c6_f884_11eb_b495_0242ac1c0002row6_col5\" class=\"data row6 col5\" >0.045000</td>\n",
              "                        <td id=\"T_946ee4c6_f884_11eb_b495_0242ac1c0002row6_col6\" class=\"data row6 col6\" >30.000000</td>\n",
              "                        <td id=\"T_946ee4c6_f884_11eb_b495_0242ac1c0002row6_col7\" class=\"data row6 col7\" >136.000000</td>\n",
              "                        <td id=\"T_946ee4c6_f884_11eb_b495_0242ac1c0002row6_col8\" class=\"data row6 col8\" >0.994900</td>\n",
              "                        <td id=\"T_946ee4c6_f884_11eb_b495_0242ac1c0002row6_col9\" class=\"data row6 col9\" >3.180000</td>\n",
              "                        <td id=\"T_946ee4c6_f884_11eb_b495_0242ac1c0002row6_col10\" class=\"data row6 col10\" >0.470000</td>\n",
              "                        <td id=\"T_946ee4c6_f884_11eb_b495_0242ac1c0002row6_col11\" class=\"data row6 col11\" >9.600000</td>\n",
              "                        <td id=\"T_946ee4c6_f884_11eb_b495_0242ac1c0002row6_col12\" class=\"data row6 col12\" >6</td>\n",
              "            </tr>\n",
              "            <tr>\n",
              "                        <th id=\"T_946ee4c6_f884_11eb_b495_0242ac1c0002level0_row7\" class=\"row_heading level0 row7\" >7</th>\n",
              "                        <td id=\"T_946ee4c6_f884_11eb_b495_0242ac1c0002row7_col0\" class=\"data row7 col0\" >white</td>\n",
              "                        <td id=\"T_946ee4c6_f884_11eb_b495_0242ac1c0002row7_col1\" class=\"data row7 col1\" >7.000000</td>\n",
              "                        <td id=\"T_946ee4c6_f884_11eb_b495_0242ac1c0002row7_col2\" class=\"data row7 col2\" >0.270000</td>\n",
              "                        <td id=\"T_946ee4c6_f884_11eb_b495_0242ac1c0002row7_col3\" class=\"data row7 col3\" >0.360000</td>\n",
              "                        <td id=\"T_946ee4c6_f884_11eb_b495_0242ac1c0002row7_col4\" class=\"data row7 col4\" >20.700000</td>\n",
              "                        <td id=\"T_946ee4c6_f884_11eb_b495_0242ac1c0002row7_col5\" class=\"data row7 col5\" >0.045000</td>\n",
              "                        <td id=\"T_946ee4c6_f884_11eb_b495_0242ac1c0002row7_col6\" class=\"data row7 col6\" >45.000000</td>\n",
              "                        <td id=\"T_946ee4c6_f884_11eb_b495_0242ac1c0002row7_col7\" class=\"data row7 col7\" >170.000000</td>\n",
              "                        <td id=\"T_946ee4c6_f884_11eb_b495_0242ac1c0002row7_col8\" class=\"data row7 col8\" >1.001000</td>\n",
              "                        <td id=\"T_946ee4c6_f884_11eb_b495_0242ac1c0002row7_col9\" class=\"data row7 col9\" >3.000000</td>\n",
              "                        <td id=\"T_946ee4c6_f884_11eb_b495_0242ac1c0002row7_col10\" class=\"data row7 col10\" >0.450000</td>\n",
              "                        <td id=\"T_946ee4c6_f884_11eb_b495_0242ac1c0002row7_col11\" class=\"data row7 col11\" >8.800000</td>\n",
              "                        <td id=\"T_946ee4c6_f884_11eb_b495_0242ac1c0002row7_col12\" class=\"data row7 col12\" >6</td>\n",
              "            </tr>\n",
              "            <tr>\n",
              "                        <th id=\"T_946ee4c6_f884_11eb_b495_0242ac1c0002level0_row8\" class=\"row_heading level0 row8\" >8</th>\n",
              "                        <td id=\"T_946ee4c6_f884_11eb_b495_0242ac1c0002row8_col0\" class=\"data row8 col0\" >white</td>\n",
              "                        <td id=\"T_946ee4c6_f884_11eb_b495_0242ac1c0002row8_col1\" class=\"data row8 col1\" >6.300000</td>\n",
              "                        <td id=\"T_946ee4c6_f884_11eb_b495_0242ac1c0002row8_col2\" class=\"data row8 col2\" >0.300000</td>\n",
              "                        <td id=\"T_946ee4c6_f884_11eb_b495_0242ac1c0002row8_col3\" class=\"data row8 col3\" >0.340000</td>\n",
              "                        <td id=\"T_946ee4c6_f884_11eb_b495_0242ac1c0002row8_col4\" class=\"data row8 col4\" >1.600000</td>\n",
              "                        <td id=\"T_946ee4c6_f884_11eb_b495_0242ac1c0002row8_col5\" class=\"data row8 col5\" >0.049000</td>\n",
              "                        <td id=\"T_946ee4c6_f884_11eb_b495_0242ac1c0002row8_col6\" class=\"data row8 col6\" >14.000000</td>\n",
              "                        <td id=\"T_946ee4c6_f884_11eb_b495_0242ac1c0002row8_col7\" class=\"data row8 col7\" >132.000000</td>\n",
              "                        <td id=\"T_946ee4c6_f884_11eb_b495_0242ac1c0002row8_col8\" class=\"data row8 col8\" >0.994000</td>\n",
              "                        <td id=\"T_946ee4c6_f884_11eb_b495_0242ac1c0002row8_col9\" class=\"data row8 col9\" >3.300000</td>\n",
              "                        <td id=\"T_946ee4c6_f884_11eb_b495_0242ac1c0002row8_col10\" class=\"data row8 col10\" >0.490000</td>\n",
              "                        <td id=\"T_946ee4c6_f884_11eb_b495_0242ac1c0002row8_col11\" class=\"data row8 col11\" >9.500000</td>\n",
              "                        <td id=\"T_946ee4c6_f884_11eb_b495_0242ac1c0002row8_col12\" class=\"data row8 col12\" >6</td>\n",
              "            </tr>\n",
              "            <tr>\n",
              "                        <th id=\"T_946ee4c6_f884_11eb_b495_0242ac1c0002level0_row9\" class=\"row_heading level0 row9\" >9</th>\n",
              "                        <td id=\"T_946ee4c6_f884_11eb_b495_0242ac1c0002row9_col0\" class=\"data row9 col0\" >white</td>\n",
              "                        <td id=\"T_946ee4c6_f884_11eb_b495_0242ac1c0002row9_col1\" class=\"data row9 col1\" >8.100000</td>\n",
              "                        <td id=\"T_946ee4c6_f884_11eb_b495_0242ac1c0002row9_col2\" class=\"data row9 col2\" >0.220000</td>\n",
              "                        <td id=\"T_946ee4c6_f884_11eb_b495_0242ac1c0002row9_col3\" class=\"data row9 col3\" >0.430000</td>\n",
              "                        <td id=\"T_946ee4c6_f884_11eb_b495_0242ac1c0002row9_col4\" class=\"data row9 col4\" >1.500000</td>\n",
              "                        <td id=\"T_946ee4c6_f884_11eb_b495_0242ac1c0002row9_col5\" class=\"data row9 col5\" >0.044000</td>\n",
              "                        <td id=\"T_946ee4c6_f884_11eb_b495_0242ac1c0002row9_col6\" class=\"data row9 col6\" >28.000000</td>\n",
              "                        <td id=\"T_946ee4c6_f884_11eb_b495_0242ac1c0002row9_col7\" class=\"data row9 col7\" >129.000000</td>\n",
              "                        <td id=\"T_946ee4c6_f884_11eb_b495_0242ac1c0002row9_col8\" class=\"data row9 col8\" >0.993800</td>\n",
              "                        <td id=\"T_946ee4c6_f884_11eb_b495_0242ac1c0002row9_col9\" class=\"data row9 col9\" >3.220000</td>\n",
              "                        <td id=\"T_946ee4c6_f884_11eb_b495_0242ac1c0002row9_col10\" class=\"data row9 col10\" >0.450000</td>\n",
              "                        <td id=\"T_946ee4c6_f884_11eb_b495_0242ac1c0002row9_col11\" class=\"data row9 col11\" >11.000000</td>\n",
              "                        <td id=\"T_946ee4c6_f884_11eb_b495_0242ac1c0002row9_col12\" class=\"data row9 col12\" >6</td>\n",
              "            </tr>\n",
              "            <tr>\n",
              "                        <th id=\"T_946ee4c6_f884_11eb_b495_0242ac1c0002level0_row10\" class=\"row_heading level0 row10\" >10</th>\n",
              "                        <td id=\"T_946ee4c6_f884_11eb_b495_0242ac1c0002row10_col0\" class=\"data row10 col0\" >white</td>\n",
              "                        <td id=\"T_946ee4c6_f884_11eb_b495_0242ac1c0002row10_col1\" class=\"data row10 col1\" >8.100000</td>\n",
              "                        <td id=\"T_946ee4c6_f884_11eb_b495_0242ac1c0002row10_col2\" class=\"data row10 col2\" >0.270000</td>\n",
              "                        <td id=\"T_946ee4c6_f884_11eb_b495_0242ac1c0002row10_col3\" class=\"data row10 col3\" >0.410000</td>\n",
              "                        <td id=\"T_946ee4c6_f884_11eb_b495_0242ac1c0002row10_col4\" class=\"data row10 col4\" >1.450000</td>\n",
              "                        <td id=\"T_946ee4c6_f884_11eb_b495_0242ac1c0002row10_col5\" class=\"data row10 col5\" >0.033000</td>\n",
              "                        <td id=\"T_946ee4c6_f884_11eb_b495_0242ac1c0002row10_col6\" class=\"data row10 col6\" >11.000000</td>\n",
              "                        <td id=\"T_946ee4c6_f884_11eb_b495_0242ac1c0002row10_col7\" class=\"data row10 col7\" >63.000000</td>\n",
              "                        <td id=\"T_946ee4c6_f884_11eb_b495_0242ac1c0002row10_col8\" class=\"data row10 col8\" >0.990800</td>\n",
              "                        <td id=\"T_946ee4c6_f884_11eb_b495_0242ac1c0002row10_col9\" class=\"data row10 col9\" >2.990000</td>\n",
              "                        <td id=\"T_946ee4c6_f884_11eb_b495_0242ac1c0002row10_col10\" class=\"data row10 col10\" >0.560000</td>\n",
              "                        <td id=\"T_946ee4c6_f884_11eb_b495_0242ac1c0002row10_col11\" class=\"data row10 col11\" >12.000000</td>\n",
              "                        <td id=\"T_946ee4c6_f884_11eb_b495_0242ac1c0002row10_col12\" class=\"data row10 col12\" >5</td>\n",
              "            </tr>\n",
              "            <tr>\n",
              "                        <th id=\"T_946ee4c6_f884_11eb_b495_0242ac1c0002level0_row11\" class=\"row_heading level0 row11\" >11</th>\n",
              "                        <td id=\"T_946ee4c6_f884_11eb_b495_0242ac1c0002row11_col0\" class=\"data row11 col0\" >white</td>\n",
              "                        <td id=\"T_946ee4c6_f884_11eb_b495_0242ac1c0002row11_col1\" class=\"data row11 col1\" >8.600000</td>\n",
              "                        <td id=\"T_946ee4c6_f884_11eb_b495_0242ac1c0002row11_col2\" class=\"data row11 col2\" >0.230000</td>\n",
              "                        <td id=\"T_946ee4c6_f884_11eb_b495_0242ac1c0002row11_col3\" class=\"data row11 col3\" >0.400000</td>\n",
              "                        <td id=\"T_946ee4c6_f884_11eb_b495_0242ac1c0002row11_col4\" class=\"data row11 col4\" >4.200000</td>\n",
              "                        <td id=\"T_946ee4c6_f884_11eb_b495_0242ac1c0002row11_col5\" class=\"data row11 col5\" >0.035000</td>\n",
              "                        <td id=\"T_946ee4c6_f884_11eb_b495_0242ac1c0002row11_col6\" class=\"data row11 col6\" >17.000000</td>\n",
              "                        <td id=\"T_946ee4c6_f884_11eb_b495_0242ac1c0002row11_col7\" class=\"data row11 col7\" >109.000000</td>\n",
              "                        <td id=\"T_946ee4c6_f884_11eb_b495_0242ac1c0002row11_col8\" class=\"data row11 col8\" >0.994700</td>\n",
              "                        <td id=\"T_946ee4c6_f884_11eb_b495_0242ac1c0002row11_col9\" class=\"data row11 col9\" >3.140000</td>\n",
              "                        <td id=\"T_946ee4c6_f884_11eb_b495_0242ac1c0002row11_col10\" class=\"data row11 col10\" >0.530000</td>\n",
              "                        <td id=\"T_946ee4c6_f884_11eb_b495_0242ac1c0002row11_col11\" class=\"data row11 col11\" >9.700000</td>\n",
              "                        <td id=\"T_946ee4c6_f884_11eb_b495_0242ac1c0002row11_col12\" class=\"data row11 col12\" >5</td>\n",
              "            </tr>\n",
              "    </tbody></table>"
            ],
            "text/plain": [
              "<pandas.io.formats.style.Styler at 0x7f9b12510fd0>"
            ]
          },
          "metadata": {
            "tags": []
          },
          "execution_count": 117
        }
      ]
    },
    {
      "cell_type": "markdown",
      "metadata": {
        "id": "HtiLV2xwGJjo"
      },
      "source": [
        "Displayed the colour gradiant's for highlights the data Value "
      ]
    },
    {
      "cell_type": "code",
      "metadata": {
        "colab": {
          "base_uri": "https://localhost:8080/",
          "height": 145
        },
        "id": "HkF5tdr6FGyP",
        "outputId": "b0e37318-e1e1-4f12-fa47-b2c6916a5208"
      },
      "source": [
        "wineData.head().style.format(format_dict).background_gradient(subset=['total sulfur dioxide', 'free sulfur dioxide'], cmap='BuGn')\n"
      ],
      "execution_count": 118,
      "outputs": [
        {
          "output_type": "execute_result",
          "data": {
            "text/html": [
              "<style  type=\"text/css\" >\n",
              "#T_96094164_f884_11eb_b495_0242ac1c0002row0_col6{\n",
              "            background-color:  #005723;\n",
              "            color:  #f1f1f1;\n",
              "        }#T_96094164_f884_11eb_b495_0242ac1c0002row0_col7{\n",
              "            background-color:  #107a37;\n",
              "            color:  #f1f1f1;\n",
              "        }#T_96094164_f884_11eb_b495_0242ac1c0002row1_col6,#T_96094164_f884_11eb_b495_0242ac1c0002row2_col7{\n",
              "            background-color:  #f7fcfd;\n",
              "            color:  #000000;\n",
              "        }#T_96094164_f884_11eb_b495_0242ac1c0002row1_col7{\n",
              "            background-color:  #92d5c4;\n",
              "            color:  #000000;\n",
              "        }#T_96094164_f884_11eb_b495_0242ac1c0002row2_col6{\n",
              "            background-color:  #6cc4a8;\n",
              "            color:  #000000;\n",
              "        }#T_96094164_f884_11eb_b495_0242ac1c0002row3_col6,#T_96094164_f884_11eb_b495_0242ac1c0002row3_col7,#T_96094164_f884_11eb_b495_0242ac1c0002row4_col6,#T_96094164_f884_11eb_b495_0242ac1c0002row4_col7{\n",
              "            background-color:  #00441b;\n",
              "            color:  #f1f1f1;\n",
              "        }</style><table id=\"T_96094164_f884_11eb_b495_0242ac1c0002\" ><thead>    <tr>        <th class=\"blank level0\" ></th>        <th class=\"col_heading level0 col0\" >type</th>        <th class=\"col_heading level0 col1\" >fixed acidity</th>        <th class=\"col_heading level0 col2\" >volatile acidity</th>        <th class=\"col_heading level0 col3\" >citric acid</th>        <th class=\"col_heading level0 col4\" >residual sugar</th>        <th class=\"col_heading level0 col5\" >chlorides</th>        <th class=\"col_heading level0 col6\" >free sulfur dioxide</th>        <th class=\"col_heading level0 col7\" >total sulfur dioxide</th>        <th class=\"col_heading level0 col8\" >density</th>        <th class=\"col_heading level0 col9\" >pH</th>        <th class=\"col_heading level0 col10\" >sulphates</th>        <th class=\"col_heading level0 col11\" >alcohol</th>        <th class=\"col_heading level0 col12\" >quality</th>    </tr></thead><tbody>\n",
              "                <tr>\n",
              "                        <th id=\"T_96094164_f884_11eb_b495_0242ac1c0002level0_row0\" class=\"row_heading level0 row0\" >0</th>\n",
              "                        <td id=\"T_96094164_f884_11eb_b495_0242ac1c0002row0_col0\" class=\"data row0 col0\" >white</td>\n",
              "                        <td id=\"T_96094164_f884_11eb_b495_0242ac1c0002row0_col1\" class=\"data row0 col1\" >7.000000</td>\n",
              "                        <td id=\"T_96094164_f884_11eb_b495_0242ac1c0002row0_col2\" class=\"data row0 col2\" >0.270000</td>\n",
              "                        <td id=\"T_96094164_f884_11eb_b495_0242ac1c0002row0_col3\" class=\"data row0 col3\" >0.360000</td>\n",
              "                        <td id=\"T_96094164_f884_11eb_b495_0242ac1c0002row0_col4\" class=\"data row0 col4\" >20.700000</td>\n",
              "                        <td id=\"T_96094164_f884_11eb_b495_0242ac1c0002row0_col5\" class=\"data row0 col5\" >0.045000</td>\n",
              "                        <td id=\"T_96094164_f884_11eb_b495_0242ac1c0002row0_col6\" class=\"data row0 col6\" >45.000000</td>\n",
              "                        <td id=\"T_96094164_f884_11eb_b495_0242ac1c0002row0_col7\" class=\"data row0 col7\" >170.000000</td>\n",
              "                        <td id=\"T_96094164_f884_11eb_b495_0242ac1c0002row0_col8\" class=\"data row0 col8\" >1.001000</td>\n",
              "                        <td id=\"T_96094164_f884_11eb_b495_0242ac1c0002row0_col9\" class=\"data row0 col9\" >3.000000</td>\n",
              "                        <td id=\"T_96094164_f884_11eb_b495_0242ac1c0002row0_col10\" class=\"data row0 col10\" >0.450000</td>\n",
              "                        <td id=\"T_96094164_f884_11eb_b495_0242ac1c0002row0_col11\" class=\"data row0 col11\" >8.800000</td>\n",
              "                        <td id=\"T_96094164_f884_11eb_b495_0242ac1c0002row0_col12\" class=\"data row0 col12\" >6</td>\n",
              "            </tr>\n",
              "            <tr>\n",
              "                        <th id=\"T_96094164_f884_11eb_b495_0242ac1c0002level0_row1\" class=\"row_heading level0 row1\" >1</th>\n",
              "                        <td id=\"T_96094164_f884_11eb_b495_0242ac1c0002row1_col0\" class=\"data row1 col0\" >white</td>\n",
              "                        <td id=\"T_96094164_f884_11eb_b495_0242ac1c0002row1_col1\" class=\"data row1 col1\" >6.300000</td>\n",
              "                        <td id=\"T_96094164_f884_11eb_b495_0242ac1c0002row1_col2\" class=\"data row1 col2\" >0.300000</td>\n",
              "                        <td id=\"T_96094164_f884_11eb_b495_0242ac1c0002row1_col3\" class=\"data row1 col3\" >0.340000</td>\n",
              "                        <td id=\"T_96094164_f884_11eb_b495_0242ac1c0002row1_col4\" class=\"data row1 col4\" >1.600000</td>\n",
              "                        <td id=\"T_96094164_f884_11eb_b495_0242ac1c0002row1_col5\" class=\"data row1 col5\" >0.049000</td>\n",
              "                        <td id=\"T_96094164_f884_11eb_b495_0242ac1c0002row1_col6\" class=\"data row1 col6\" >14.000000</td>\n",
              "                        <td id=\"T_96094164_f884_11eb_b495_0242ac1c0002row1_col7\" class=\"data row1 col7\" >132.000000</td>\n",
              "                        <td id=\"T_96094164_f884_11eb_b495_0242ac1c0002row1_col8\" class=\"data row1 col8\" >0.994000</td>\n",
              "                        <td id=\"T_96094164_f884_11eb_b495_0242ac1c0002row1_col9\" class=\"data row1 col9\" >3.300000</td>\n",
              "                        <td id=\"T_96094164_f884_11eb_b495_0242ac1c0002row1_col10\" class=\"data row1 col10\" >0.490000</td>\n",
              "                        <td id=\"T_96094164_f884_11eb_b495_0242ac1c0002row1_col11\" class=\"data row1 col11\" >9.500000</td>\n",
              "                        <td id=\"T_96094164_f884_11eb_b495_0242ac1c0002row1_col12\" class=\"data row1 col12\" >6</td>\n",
              "            </tr>\n",
              "            <tr>\n",
              "                        <th id=\"T_96094164_f884_11eb_b495_0242ac1c0002level0_row2\" class=\"row_heading level0 row2\" >2</th>\n",
              "                        <td id=\"T_96094164_f884_11eb_b495_0242ac1c0002row2_col0\" class=\"data row2 col0\" >white</td>\n",
              "                        <td id=\"T_96094164_f884_11eb_b495_0242ac1c0002row2_col1\" class=\"data row2 col1\" >8.100000</td>\n",
              "                        <td id=\"T_96094164_f884_11eb_b495_0242ac1c0002row2_col2\" class=\"data row2 col2\" >0.280000</td>\n",
              "                        <td id=\"T_96094164_f884_11eb_b495_0242ac1c0002row2_col3\" class=\"data row2 col3\" >0.400000</td>\n",
              "                        <td id=\"T_96094164_f884_11eb_b495_0242ac1c0002row2_col4\" class=\"data row2 col4\" >6.900000</td>\n",
              "                        <td id=\"T_96094164_f884_11eb_b495_0242ac1c0002row2_col5\" class=\"data row2 col5\" >0.050000</td>\n",
              "                        <td id=\"T_96094164_f884_11eb_b495_0242ac1c0002row2_col6\" class=\"data row2 col6\" >30.000000</td>\n",
              "                        <td id=\"T_96094164_f884_11eb_b495_0242ac1c0002row2_col7\" class=\"data row2 col7\" >97.000000</td>\n",
              "                        <td id=\"T_96094164_f884_11eb_b495_0242ac1c0002row2_col8\" class=\"data row2 col8\" >0.995100</td>\n",
              "                        <td id=\"T_96094164_f884_11eb_b495_0242ac1c0002row2_col9\" class=\"data row2 col9\" >3.260000</td>\n",
              "                        <td id=\"T_96094164_f884_11eb_b495_0242ac1c0002row2_col10\" class=\"data row2 col10\" >0.440000</td>\n",
              "                        <td id=\"T_96094164_f884_11eb_b495_0242ac1c0002row2_col11\" class=\"data row2 col11\" >10.100000</td>\n",
              "                        <td id=\"T_96094164_f884_11eb_b495_0242ac1c0002row2_col12\" class=\"data row2 col12\" >6</td>\n",
              "            </tr>\n",
              "            <tr>\n",
              "                        <th id=\"T_96094164_f884_11eb_b495_0242ac1c0002level0_row3\" class=\"row_heading level0 row3\" >3</th>\n",
              "                        <td id=\"T_96094164_f884_11eb_b495_0242ac1c0002row3_col0\" class=\"data row3 col0\" >white</td>\n",
              "                        <td id=\"T_96094164_f884_11eb_b495_0242ac1c0002row3_col1\" class=\"data row3 col1\" >7.200000</td>\n",
              "                        <td id=\"T_96094164_f884_11eb_b495_0242ac1c0002row3_col2\" class=\"data row3 col2\" >0.230000</td>\n",
              "                        <td id=\"T_96094164_f884_11eb_b495_0242ac1c0002row3_col3\" class=\"data row3 col3\" >0.320000</td>\n",
              "                        <td id=\"T_96094164_f884_11eb_b495_0242ac1c0002row3_col4\" class=\"data row3 col4\" >8.500000</td>\n",
              "                        <td id=\"T_96094164_f884_11eb_b495_0242ac1c0002row3_col5\" class=\"data row3 col5\" >0.058000</td>\n",
              "                        <td id=\"T_96094164_f884_11eb_b495_0242ac1c0002row3_col6\" class=\"data row3 col6\" >47.000000</td>\n",
              "                        <td id=\"T_96094164_f884_11eb_b495_0242ac1c0002row3_col7\" class=\"data row3 col7\" >186.000000</td>\n",
              "                        <td id=\"T_96094164_f884_11eb_b495_0242ac1c0002row3_col8\" class=\"data row3 col8\" >0.995600</td>\n",
              "                        <td id=\"T_96094164_f884_11eb_b495_0242ac1c0002row3_col9\" class=\"data row3 col9\" >3.190000</td>\n",
              "                        <td id=\"T_96094164_f884_11eb_b495_0242ac1c0002row3_col10\" class=\"data row3 col10\" >0.400000</td>\n",
              "                        <td id=\"T_96094164_f884_11eb_b495_0242ac1c0002row3_col11\" class=\"data row3 col11\" >9.900000</td>\n",
              "                        <td id=\"T_96094164_f884_11eb_b495_0242ac1c0002row3_col12\" class=\"data row3 col12\" >6</td>\n",
              "            </tr>\n",
              "            <tr>\n",
              "                        <th id=\"T_96094164_f884_11eb_b495_0242ac1c0002level0_row4\" class=\"row_heading level0 row4\" >4</th>\n",
              "                        <td id=\"T_96094164_f884_11eb_b495_0242ac1c0002row4_col0\" class=\"data row4 col0\" >white</td>\n",
              "                        <td id=\"T_96094164_f884_11eb_b495_0242ac1c0002row4_col1\" class=\"data row4 col1\" >7.200000</td>\n",
              "                        <td id=\"T_96094164_f884_11eb_b495_0242ac1c0002row4_col2\" class=\"data row4 col2\" >0.230000</td>\n",
              "                        <td id=\"T_96094164_f884_11eb_b495_0242ac1c0002row4_col3\" class=\"data row4 col3\" >0.320000</td>\n",
              "                        <td id=\"T_96094164_f884_11eb_b495_0242ac1c0002row4_col4\" class=\"data row4 col4\" >8.500000</td>\n",
              "                        <td id=\"T_96094164_f884_11eb_b495_0242ac1c0002row4_col5\" class=\"data row4 col5\" >0.058000</td>\n",
              "                        <td id=\"T_96094164_f884_11eb_b495_0242ac1c0002row4_col6\" class=\"data row4 col6\" >47.000000</td>\n",
              "                        <td id=\"T_96094164_f884_11eb_b495_0242ac1c0002row4_col7\" class=\"data row4 col7\" >186.000000</td>\n",
              "                        <td id=\"T_96094164_f884_11eb_b495_0242ac1c0002row4_col8\" class=\"data row4 col8\" >0.995600</td>\n",
              "                        <td id=\"T_96094164_f884_11eb_b495_0242ac1c0002row4_col9\" class=\"data row4 col9\" >3.190000</td>\n",
              "                        <td id=\"T_96094164_f884_11eb_b495_0242ac1c0002row4_col10\" class=\"data row4 col10\" >0.400000</td>\n",
              "                        <td id=\"T_96094164_f884_11eb_b495_0242ac1c0002row4_col11\" class=\"data row4 col11\" >9.900000</td>\n",
              "                        <td id=\"T_96094164_f884_11eb_b495_0242ac1c0002row4_col12\" class=\"data row4 col12\" >6</td>\n",
              "            </tr>\n",
              "    </tbody></table>"
            ],
            "text/plain": [
              "<pandas.io.formats.style.Styler at 0x7f9b124cd4d0>"
            ]
          },
          "metadata": {
            "tags": []
          },
          "execution_count": 118
        }
      ]
    },
    {
      "cell_type": "markdown",
      "metadata": {
        "id": "WP7R7cCKaNzy"
      },
      "source": [
        "The Similar Data Values displayed by the Bar Graph \n",
        "\n"
      ]
    },
    {
      "cell_type": "code",
      "metadata": {
        "colab": {
          "base_uri": "https://localhost:8080/",
          "height": 145
        },
        "id": "3kWUIuoGa4T9",
        "outputId": "70d9dabc-59aa-4df7-82a7-cf29dfe29b27"
      },
      "source": [
        "wineData.head().style.format(format_dict).bar(color='skyBlue', subset=['total sulfur dioxide', 'free sulfur dioxide'])\n"
      ],
      "execution_count": 119,
      "outputs": [
        {
          "output_type": "execute_result",
          "data": {
            "text/html": [
              "<style  type=\"text/css\" >\n",
              "#T_97951256_f884_11eb_b495_0242ac1c0002row0_col6{\n",
              "            width:  10em;\n",
              "             height:  80%;\n",
              "            background:  linear-gradient(90deg,skyBlue 93.9%, transparent 93.9%);\n",
              "        }#T_97951256_f884_11eb_b495_0242ac1c0002row0_col7{\n",
              "            width:  10em;\n",
              "             height:  80%;\n",
              "            background:  linear-gradient(90deg,skyBlue 82.0%, transparent 82.0%);\n",
              "        }#T_97951256_f884_11eb_b495_0242ac1c0002row1_col6,#T_97951256_f884_11eb_b495_0242ac1c0002row2_col7{\n",
              "            width:  10em;\n",
              "             height:  80%;\n",
              "        }#T_97951256_f884_11eb_b495_0242ac1c0002row1_col7{\n",
              "            width:  10em;\n",
              "             height:  80%;\n",
              "            background:  linear-gradient(90deg,skyBlue 39.3%, transparent 39.3%);\n",
              "        }#T_97951256_f884_11eb_b495_0242ac1c0002row2_col6{\n",
              "            width:  10em;\n",
              "             height:  80%;\n",
              "            background:  linear-gradient(90deg,skyBlue 48.5%, transparent 48.5%);\n",
              "        }#T_97951256_f884_11eb_b495_0242ac1c0002row3_col6,#T_97951256_f884_11eb_b495_0242ac1c0002row3_col7,#T_97951256_f884_11eb_b495_0242ac1c0002row4_col6,#T_97951256_f884_11eb_b495_0242ac1c0002row4_col7{\n",
              "            width:  10em;\n",
              "             height:  80%;\n",
              "            background:  linear-gradient(90deg,skyBlue 100.0%, transparent 100.0%);\n",
              "        }</style><table id=\"T_97951256_f884_11eb_b495_0242ac1c0002\" ><thead>    <tr>        <th class=\"blank level0\" ></th>        <th class=\"col_heading level0 col0\" >type</th>        <th class=\"col_heading level0 col1\" >fixed acidity</th>        <th class=\"col_heading level0 col2\" >volatile acidity</th>        <th class=\"col_heading level0 col3\" >citric acid</th>        <th class=\"col_heading level0 col4\" >residual sugar</th>        <th class=\"col_heading level0 col5\" >chlorides</th>        <th class=\"col_heading level0 col6\" >free sulfur dioxide</th>        <th class=\"col_heading level0 col7\" >total sulfur dioxide</th>        <th class=\"col_heading level0 col8\" >density</th>        <th class=\"col_heading level0 col9\" >pH</th>        <th class=\"col_heading level0 col10\" >sulphates</th>        <th class=\"col_heading level0 col11\" >alcohol</th>        <th class=\"col_heading level0 col12\" >quality</th>    </tr></thead><tbody>\n",
              "                <tr>\n",
              "                        <th id=\"T_97951256_f884_11eb_b495_0242ac1c0002level0_row0\" class=\"row_heading level0 row0\" >0</th>\n",
              "                        <td id=\"T_97951256_f884_11eb_b495_0242ac1c0002row0_col0\" class=\"data row0 col0\" >white</td>\n",
              "                        <td id=\"T_97951256_f884_11eb_b495_0242ac1c0002row0_col1\" class=\"data row0 col1\" >7.000000</td>\n",
              "                        <td id=\"T_97951256_f884_11eb_b495_0242ac1c0002row0_col2\" class=\"data row0 col2\" >0.270000</td>\n",
              "                        <td id=\"T_97951256_f884_11eb_b495_0242ac1c0002row0_col3\" class=\"data row0 col3\" >0.360000</td>\n",
              "                        <td id=\"T_97951256_f884_11eb_b495_0242ac1c0002row0_col4\" class=\"data row0 col4\" >20.700000</td>\n",
              "                        <td id=\"T_97951256_f884_11eb_b495_0242ac1c0002row0_col5\" class=\"data row0 col5\" >0.045000</td>\n",
              "                        <td id=\"T_97951256_f884_11eb_b495_0242ac1c0002row0_col6\" class=\"data row0 col6\" >45.000000</td>\n",
              "                        <td id=\"T_97951256_f884_11eb_b495_0242ac1c0002row0_col7\" class=\"data row0 col7\" >170.000000</td>\n",
              "                        <td id=\"T_97951256_f884_11eb_b495_0242ac1c0002row0_col8\" class=\"data row0 col8\" >1.001000</td>\n",
              "                        <td id=\"T_97951256_f884_11eb_b495_0242ac1c0002row0_col9\" class=\"data row0 col9\" >3.000000</td>\n",
              "                        <td id=\"T_97951256_f884_11eb_b495_0242ac1c0002row0_col10\" class=\"data row0 col10\" >0.450000</td>\n",
              "                        <td id=\"T_97951256_f884_11eb_b495_0242ac1c0002row0_col11\" class=\"data row0 col11\" >8.800000</td>\n",
              "                        <td id=\"T_97951256_f884_11eb_b495_0242ac1c0002row0_col12\" class=\"data row0 col12\" >6</td>\n",
              "            </tr>\n",
              "            <tr>\n",
              "                        <th id=\"T_97951256_f884_11eb_b495_0242ac1c0002level0_row1\" class=\"row_heading level0 row1\" >1</th>\n",
              "                        <td id=\"T_97951256_f884_11eb_b495_0242ac1c0002row1_col0\" class=\"data row1 col0\" >white</td>\n",
              "                        <td id=\"T_97951256_f884_11eb_b495_0242ac1c0002row1_col1\" class=\"data row1 col1\" >6.300000</td>\n",
              "                        <td id=\"T_97951256_f884_11eb_b495_0242ac1c0002row1_col2\" class=\"data row1 col2\" >0.300000</td>\n",
              "                        <td id=\"T_97951256_f884_11eb_b495_0242ac1c0002row1_col3\" class=\"data row1 col3\" >0.340000</td>\n",
              "                        <td id=\"T_97951256_f884_11eb_b495_0242ac1c0002row1_col4\" class=\"data row1 col4\" >1.600000</td>\n",
              "                        <td id=\"T_97951256_f884_11eb_b495_0242ac1c0002row1_col5\" class=\"data row1 col5\" >0.049000</td>\n",
              "                        <td id=\"T_97951256_f884_11eb_b495_0242ac1c0002row1_col6\" class=\"data row1 col6\" >14.000000</td>\n",
              "                        <td id=\"T_97951256_f884_11eb_b495_0242ac1c0002row1_col7\" class=\"data row1 col7\" >132.000000</td>\n",
              "                        <td id=\"T_97951256_f884_11eb_b495_0242ac1c0002row1_col8\" class=\"data row1 col8\" >0.994000</td>\n",
              "                        <td id=\"T_97951256_f884_11eb_b495_0242ac1c0002row1_col9\" class=\"data row1 col9\" >3.300000</td>\n",
              "                        <td id=\"T_97951256_f884_11eb_b495_0242ac1c0002row1_col10\" class=\"data row1 col10\" >0.490000</td>\n",
              "                        <td id=\"T_97951256_f884_11eb_b495_0242ac1c0002row1_col11\" class=\"data row1 col11\" >9.500000</td>\n",
              "                        <td id=\"T_97951256_f884_11eb_b495_0242ac1c0002row1_col12\" class=\"data row1 col12\" >6</td>\n",
              "            </tr>\n",
              "            <tr>\n",
              "                        <th id=\"T_97951256_f884_11eb_b495_0242ac1c0002level0_row2\" class=\"row_heading level0 row2\" >2</th>\n",
              "                        <td id=\"T_97951256_f884_11eb_b495_0242ac1c0002row2_col0\" class=\"data row2 col0\" >white</td>\n",
              "                        <td id=\"T_97951256_f884_11eb_b495_0242ac1c0002row2_col1\" class=\"data row2 col1\" >8.100000</td>\n",
              "                        <td id=\"T_97951256_f884_11eb_b495_0242ac1c0002row2_col2\" class=\"data row2 col2\" >0.280000</td>\n",
              "                        <td id=\"T_97951256_f884_11eb_b495_0242ac1c0002row2_col3\" class=\"data row2 col3\" >0.400000</td>\n",
              "                        <td id=\"T_97951256_f884_11eb_b495_0242ac1c0002row2_col4\" class=\"data row2 col4\" >6.900000</td>\n",
              "                        <td id=\"T_97951256_f884_11eb_b495_0242ac1c0002row2_col5\" class=\"data row2 col5\" >0.050000</td>\n",
              "                        <td id=\"T_97951256_f884_11eb_b495_0242ac1c0002row2_col6\" class=\"data row2 col6\" >30.000000</td>\n",
              "                        <td id=\"T_97951256_f884_11eb_b495_0242ac1c0002row2_col7\" class=\"data row2 col7\" >97.000000</td>\n",
              "                        <td id=\"T_97951256_f884_11eb_b495_0242ac1c0002row2_col8\" class=\"data row2 col8\" >0.995100</td>\n",
              "                        <td id=\"T_97951256_f884_11eb_b495_0242ac1c0002row2_col9\" class=\"data row2 col9\" >3.260000</td>\n",
              "                        <td id=\"T_97951256_f884_11eb_b495_0242ac1c0002row2_col10\" class=\"data row2 col10\" >0.440000</td>\n",
              "                        <td id=\"T_97951256_f884_11eb_b495_0242ac1c0002row2_col11\" class=\"data row2 col11\" >10.100000</td>\n",
              "                        <td id=\"T_97951256_f884_11eb_b495_0242ac1c0002row2_col12\" class=\"data row2 col12\" >6</td>\n",
              "            </tr>\n",
              "            <tr>\n",
              "                        <th id=\"T_97951256_f884_11eb_b495_0242ac1c0002level0_row3\" class=\"row_heading level0 row3\" >3</th>\n",
              "                        <td id=\"T_97951256_f884_11eb_b495_0242ac1c0002row3_col0\" class=\"data row3 col0\" >white</td>\n",
              "                        <td id=\"T_97951256_f884_11eb_b495_0242ac1c0002row3_col1\" class=\"data row3 col1\" >7.200000</td>\n",
              "                        <td id=\"T_97951256_f884_11eb_b495_0242ac1c0002row3_col2\" class=\"data row3 col2\" >0.230000</td>\n",
              "                        <td id=\"T_97951256_f884_11eb_b495_0242ac1c0002row3_col3\" class=\"data row3 col3\" >0.320000</td>\n",
              "                        <td id=\"T_97951256_f884_11eb_b495_0242ac1c0002row3_col4\" class=\"data row3 col4\" >8.500000</td>\n",
              "                        <td id=\"T_97951256_f884_11eb_b495_0242ac1c0002row3_col5\" class=\"data row3 col5\" >0.058000</td>\n",
              "                        <td id=\"T_97951256_f884_11eb_b495_0242ac1c0002row3_col6\" class=\"data row3 col6\" >47.000000</td>\n",
              "                        <td id=\"T_97951256_f884_11eb_b495_0242ac1c0002row3_col7\" class=\"data row3 col7\" >186.000000</td>\n",
              "                        <td id=\"T_97951256_f884_11eb_b495_0242ac1c0002row3_col8\" class=\"data row3 col8\" >0.995600</td>\n",
              "                        <td id=\"T_97951256_f884_11eb_b495_0242ac1c0002row3_col9\" class=\"data row3 col9\" >3.190000</td>\n",
              "                        <td id=\"T_97951256_f884_11eb_b495_0242ac1c0002row3_col10\" class=\"data row3 col10\" >0.400000</td>\n",
              "                        <td id=\"T_97951256_f884_11eb_b495_0242ac1c0002row3_col11\" class=\"data row3 col11\" >9.900000</td>\n",
              "                        <td id=\"T_97951256_f884_11eb_b495_0242ac1c0002row3_col12\" class=\"data row3 col12\" >6</td>\n",
              "            </tr>\n",
              "            <tr>\n",
              "                        <th id=\"T_97951256_f884_11eb_b495_0242ac1c0002level0_row4\" class=\"row_heading level0 row4\" >4</th>\n",
              "                        <td id=\"T_97951256_f884_11eb_b495_0242ac1c0002row4_col0\" class=\"data row4 col0\" >white</td>\n",
              "                        <td id=\"T_97951256_f884_11eb_b495_0242ac1c0002row4_col1\" class=\"data row4 col1\" >7.200000</td>\n",
              "                        <td id=\"T_97951256_f884_11eb_b495_0242ac1c0002row4_col2\" class=\"data row4 col2\" >0.230000</td>\n",
              "                        <td id=\"T_97951256_f884_11eb_b495_0242ac1c0002row4_col3\" class=\"data row4 col3\" >0.320000</td>\n",
              "                        <td id=\"T_97951256_f884_11eb_b495_0242ac1c0002row4_col4\" class=\"data row4 col4\" >8.500000</td>\n",
              "                        <td id=\"T_97951256_f884_11eb_b495_0242ac1c0002row4_col5\" class=\"data row4 col5\" >0.058000</td>\n",
              "                        <td id=\"T_97951256_f884_11eb_b495_0242ac1c0002row4_col6\" class=\"data row4 col6\" >47.000000</td>\n",
              "                        <td id=\"T_97951256_f884_11eb_b495_0242ac1c0002row4_col7\" class=\"data row4 col7\" >186.000000</td>\n",
              "                        <td id=\"T_97951256_f884_11eb_b495_0242ac1c0002row4_col8\" class=\"data row4 col8\" >0.995600</td>\n",
              "                        <td id=\"T_97951256_f884_11eb_b495_0242ac1c0002row4_col9\" class=\"data row4 col9\" >3.190000</td>\n",
              "                        <td id=\"T_97951256_f884_11eb_b495_0242ac1c0002row4_col10\" class=\"data row4 col10\" >0.400000</td>\n",
              "                        <td id=\"T_97951256_f884_11eb_b495_0242ac1c0002row4_col11\" class=\"data row4 col11\" >9.900000</td>\n",
              "                        <td id=\"T_97951256_f884_11eb_b495_0242ac1c0002row4_col12\" class=\"data row4 col12\" >6</td>\n",
              "            </tr>\n",
              "    </tbody></table>"
            ],
            "text/plain": [
              "<pandas.io.formats.style.Styler at 0x7f9b124e63d0>"
            ]
          },
          "metadata": {
            "tags": []
          },
          "execution_count": 119
        }
      ]
    },
    {
      "cell_type": "markdown",
      "metadata": {
        "id": "ERku9k4Ubouy"
      },
      "source": [
        "Moreover, we also can combine the above functions and create a more complex visualization for easy understanding.\n"
      ]
    },
    {
      "cell_type": "code",
      "metadata": {
        "colab": {
          "base_uri": "https://localhost:8080/",
          "height": 145
        },
        "id": "QQ1aoxw4bwE5",
        "outputId": "eeb4f305-3d55-41cd-90e2-4ea3d5edcb53"
      },
      "source": [
        "wineData.head().style.format(format_dict).background_gradient(subset=['total sulfur dioxide', 'free sulfur dioxide'], cmap='BuGn').highlight_max(color='pink')"
      ],
      "execution_count": 120,
      "outputs": [
        {
          "output_type": "execute_result",
          "data": {
            "text/html": [
              "<style  type=\"text/css\" >\n",
              "#T_98e072cc_f884_11eb_b495_0242ac1c0002row0_col4,#T_98e072cc_f884_11eb_b495_0242ac1c0002row0_col8,#T_98e072cc_f884_11eb_b495_0242ac1c0002row0_col12,#T_98e072cc_f884_11eb_b495_0242ac1c0002row1_col2,#T_98e072cc_f884_11eb_b495_0242ac1c0002row1_col9,#T_98e072cc_f884_11eb_b495_0242ac1c0002row1_col10,#T_98e072cc_f884_11eb_b495_0242ac1c0002row1_col12,#T_98e072cc_f884_11eb_b495_0242ac1c0002row2_col1,#T_98e072cc_f884_11eb_b495_0242ac1c0002row2_col3,#T_98e072cc_f884_11eb_b495_0242ac1c0002row2_col11,#T_98e072cc_f884_11eb_b495_0242ac1c0002row2_col12,#T_98e072cc_f884_11eb_b495_0242ac1c0002row3_col5,#T_98e072cc_f884_11eb_b495_0242ac1c0002row3_col12,#T_98e072cc_f884_11eb_b495_0242ac1c0002row4_col5,#T_98e072cc_f884_11eb_b495_0242ac1c0002row4_col12{\n",
              "            background-color:  pink;\n",
              "        }#T_98e072cc_f884_11eb_b495_0242ac1c0002row0_col6{\n",
              "            background-color:  #005723;\n",
              "            color:  #f1f1f1;\n",
              "        }#T_98e072cc_f884_11eb_b495_0242ac1c0002row0_col7{\n",
              "            background-color:  #107a37;\n",
              "            color:  #f1f1f1;\n",
              "        }#T_98e072cc_f884_11eb_b495_0242ac1c0002row1_col6,#T_98e072cc_f884_11eb_b495_0242ac1c0002row2_col7{\n",
              "            background-color:  #f7fcfd;\n",
              "            color:  #000000;\n",
              "        }#T_98e072cc_f884_11eb_b495_0242ac1c0002row1_col7{\n",
              "            background-color:  #92d5c4;\n",
              "            color:  #000000;\n",
              "        }#T_98e072cc_f884_11eb_b495_0242ac1c0002row2_col6{\n",
              "            background-color:  #6cc4a8;\n",
              "            color:  #000000;\n",
              "        }#T_98e072cc_f884_11eb_b495_0242ac1c0002row3_col6,#T_98e072cc_f884_11eb_b495_0242ac1c0002row3_col7,#T_98e072cc_f884_11eb_b495_0242ac1c0002row4_col6,#T_98e072cc_f884_11eb_b495_0242ac1c0002row4_col7{\n",
              "            background-color:  #00441b;\n",
              "            color:  #f1f1f1;\n",
              "            background-color:  pink;\n",
              "        }</style><table id=\"T_98e072cc_f884_11eb_b495_0242ac1c0002\" ><thead>    <tr>        <th class=\"blank level0\" ></th>        <th class=\"col_heading level0 col0\" >type</th>        <th class=\"col_heading level0 col1\" >fixed acidity</th>        <th class=\"col_heading level0 col2\" >volatile acidity</th>        <th class=\"col_heading level0 col3\" >citric acid</th>        <th class=\"col_heading level0 col4\" >residual sugar</th>        <th class=\"col_heading level0 col5\" >chlorides</th>        <th class=\"col_heading level0 col6\" >free sulfur dioxide</th>        <th class=\"col_heading level0 col7\" >total sulfur dioxide</th>        <th class=\"col_heading level0 col8\" >density</th>        <th class=\"col_heading level0 col9\" >pH</th>        <th class=\"col_heading level0 col10\" >sulphates</th>        <th class=\"col_heading level0 col11\" >alcohol</th>        <th class=\"col_heading level0 col12\" >quality</th>    </tr></thead><tbody>\n",
              "                <tr>\n",
              "                        <th id=\"T_98e072cc_f884_11eb_b495_0242ac1c0002level0_row0\" class=\"row_heading level0 row0\" >0</th>\n",
              "                        <td id=\"T_98e072cc_f884_11eb_b495_0242ac1c0002row0_col0\" class=\"data row0 col0\" >white</td>\n",
              "                        <td id=\"T_98e072cc_f884_11eb_b495_0242ac1c0002row0_col1\" class=\"data row0 col1\" >7.000000</td>\n",
              "                        <td id=\"T_98e072cc_f884_11eb_b495_0242ac1c0002row0_col2\" class=\"data row0 col2\" >0.270000</td>\n",
              "                        <td id=\"T_98e072cc_f884_11eb_b495_0242ac1c0002row0_col3\" class=\"data row0 col3\" >0.360000</td>\n",
              "                        <td id=\"T_98e072cc_f884_11eb_b495_0242ac1c0002row0_col4\" class=\"data row0 col4\" >20.700000</td>\n",
              "                        <td id=\"T_98e072cc_f884_11eb_b495_0242ac1c0002row0_col5\" class=\"data row0 col5\" >0.045000</td>\n",
              "                        <td id=\"T_98e072cc_f884_11eb_b495_0242ac1c0002row0_col6\" class=\"data row0 col6\" >45.000000</td>\n",
              "                        <td id=\"T_98e072cc_f884_11eb_b495_0242ac1c0002row0_col7\" class=\"data row0 col7\" >170.000000</td>\n",
              "                        <td id=\"T_98e072cc_f884_11eb_b495_0242ac1c0002row0_col8\" class=\"data row0 col8\" >1.001000</td>\n",
              "                        <td id=\"T_98e072cc_f884_11eb_b495_0242ac1c0002row0_col9\" class=\"data row0 col9\" >3.000000</td>\n",
              "                        <td id=\"T_98e072cc_f884_11eb_b495_0242ac1c0002row0_col10\" class=\"data row0 col10\" >0.450000</td>\n",
              "                        <td id=\"T_98e072cc_f884_11eb_b495_0242ac1c0002row0_col11\" class=\"data row0 col11\" >8.800000</td>\n",
              "                        <td id=\"T_98e072cc_f884_11eb_b495_0242ac1c0002row0_col12\" class=\"data row0 col12\" >6</td>\n",
              "            </tr>\n",
              "            <tr>\n",
              "                        <th id=\"T_98e072cc_f884_11eb_b495_0242ac1c0002level0_row1\" class=\"row_heading level0 row1\" >1</th>\n",
              "                        <td id=\"T_98e072cc_f884_11eb_b495_0242ac1c0002row1_col0\" class=\"data row1 col0\" >white</td>\n",
              "                        <td id=\"T_98e072cc_f884_11eb_b495_0242ac1c0002row1_col1\" class=\"data row1 col1\" >6.300000</td>\n",
              "                        <td id=\"T_98e072cc_f884_11eb_b495_0242ac1c0002row1_col2\" class=\"data row1 col2\" >0.300000</td>\n",
              "                        <td id=\"T_98e072cc_f884_11eb_b495_0242ac1c0002row1_col3\" class=\"data row1 col3\" >0.340000</td>\n",
              "                        <td id=\"T_98e072cc_f884_11eb_b495_0242ac1c0002row1_col4\" class=\"data row1 col4\" >1.600000</td>\n",
              "                        <td id=\"T_98e072cc_f884_11eb_b495_0242ac1c0002row1_col5\" class=\"data row1 col5\" >0.049000</td>\n",
              "                        <td id=\"T_98e072cc_f884_11eb_b495_0242ac1c0002row1_col6\" class=\"data row1 col6\" >14.000000</td>\n",
              "                        <td id=\"T_98e072cc_f884_11eb_b495_0242ac1c0002row1_col7\" class=\"data row1 col7\" >132.000000</td>\n",
              "                        <td id=\"T_98e072cc_f884_11eb_b495_0242ac1c0002row1_col8\" class=\"data row1 col8\" >0.994000</td>\n",
              "                        <td id=\"T_98e072cc_f884_11eb_b495_0242ac1c0002row1_col9\" class=\"data row1 col9\" >3.300000</td>\n",
              "                        <td id=\"T_98e072cc_f884_11eb_b495_0242ac1c0002row1_col10\" class=\"data row1 col10\" >0.490000</td>\n",
              "                        <td id=\"T_98e072cc_f884_11eb_b495_0242ac1c0002row1_col11\" class=\"data row1 col11\" >9.500000</td>\n",
              "                        <td id=\"T_98e072cc_f884_11eb_b495_0242ac1c0002row1_col12\" class=\"data row1 col12\" >6</td>\n",
              "            </tr>\n",
              "            <tr>\n",
              "                        <th id=\"T_98e072cc_f884_11eb_b495_0242ac1c0002level0_row2\" class=\"row_heading level0 row2\" >2</th>\n",
              "                        <td id=\"T_98e072cc_f884_11eb_b495_0242ac1c0002row2_col0\" class=\"data row2 col0\" >white</td>\n",
              "                        <td id=\"T_98e072cc_f884_11eb_b495_0242ac1c0002row2_col1\" class=\"data row2 col1\" >8.100000</td>\n",
              "                        <td id=\"T_98e072cc_f884_11eb_b495_0242ac1c0002row2_col2\" class=\"data row2 col2\" >0.280000</td>\n",
              "                        <td id=\"T_98e072cc_f884_11eb_b495_0242ac1c0002row2_col3\" class=\"data row2 col3\" >0.400000</td>\n",
              "                        <td id=\"T_98e072cc_f884_11eb_b495_0242ac1c0002row2_col4\" class=\"data row2 col4\" >6.900000</td>\n",
              "                        <td id=\"T_98e072cc_f884_11eb_b495_0242ac1c0002row2_col5\" class=\"data row2 col5\" >0.050000</td>\n",
              "                        <td id=\"T_98e072cc_f884_11eb_b495_0242ac1c0002row2_col6\" class=\"data row2 col6\" >30.000000</td>\n",
              "                        <td id=\"T_98e072cc_f884_11eb_b495_0242ac1c0002row2_col7\" class=\"data row2 col7\" >97.000000</td>\n",
              "                        <td id=\"T_98e072cc_f884_11eb_b495_0242ac1c0002row2_col8\" class=\"data row2 col8\" >0.995100</td>\n",
              "                        <td id=\"T_98e072cc_f884_11eb_b495_0242ac1c0002row2_col9\" class=\"data row2 col9\" >3.260000</td>\n",
              "                        <td id=\"T_98e072cc_f884_11eb_b495_0242ac1c0002row2_col10\" class=\"data row2 col10\" >0.440000</td>\n",
              "                        <td id=\"T_98e072cc_f884_11eb_b495_0242ac1c0002row2_col11\" class=\"data row2 col11\" >10.100000</td>\n",
              "                        <td id=\"T_98e072cc_f884_11eb_b495_0242ac1c0002row2_col12\" class=\"data row2 col12\" >6</td>\n",
              "            </tr>\n",
              "            <tr>\n",
              "                        <th id=\"T_98e072cc_f884_11eb_b495_0242ac1c0002level0_row3\" class=\"row_heading level0 row3\" >3</th>\n",
              "                        <td id=\"T_98e072cc_f884_11eb_b495_0242ac1c0002row3_col0\" class=\"data row3 col0\" >white</td>\n",
              "                        <td id=\"T_98e072cc_f884_11eb_b495_0242ac1c0002row3_col1\" class=\"data row3 col1\" >7.200000</td>\n",
              "                        <td id=\"T_98e072cc_f884_11eb_b495_0242ac1c0002row3_col2\" class=\"data row3 col2\" >0.230000</td>\n",
              "                        <td id=\"T_98e072cc_f884_11eb_b495_0242ac1c0002row3_col3\" class=\"data row3 col3\" >0.320000</td>\n",
              "                        <td id=\"T_98e072cc_f884_11eb_b495_0242ac1c0002row3_col4\" class=\"data row3 col4\" >8.500000</td>\n",
              "                        <td id=\"T_98e072cc_f884_11eb_b495_0242ac1c0002row3_col5\" class=\"data row3 col5\" >0.058000</td>\n",
              "                        <td id=\"T_98e072cc_f884_11eb_b495_0242ac1c0002row3_col6\" class=\"data row3 col6\" >47.000000</td>\n",
              "                        <td id=\"T_98e072cc_f884_11eb_b495_0242ac1c0002row3_col7\" class=\"data row3 col7\" >186.000000</td>\n",
              "                        <td id=\"T_98e072cc_f884_11eb_b495_0242ac1c0002row3_col8\" class=\"data row3 col8\" >0.995600</td>\n",
              "                        <td id=\"T_98e072cc_f884_11eb_b495_0242ac1c0002row3_col9\" class=\"data row3 col9\" >3.190000</td>\n",
              "                        <td id=\"T_98e072cc_f884_11eb_b495_0242ac1c0002row3_col10\" class=\"data row3 col10\" >0.400000</td>\n",
              "                        <td id=\"T_98e072cc_f884_11eb_b495_0242ac1c0002row3_col11\" class=\"data row3 col11\" >9.900000</td>\n",
              "                        <td id=\"T_98e072cc_f884_11eb_b495_0242ac1c0002row3_col12\" class=\"data row3 col12\" >6</td>\n",
              "            </tr>\n",
              "            <tr>\n",
              "                        <th id=\"T_98e072cc_f884_11eb_b495_0242ac1c0002level0_row4\" class=\"row_heading level0 row4\" >4</th>\n",
              "                        <td id=\"T_98e072cc_f884_11eb_b495_0242ac1c0002row4_col0\" class=\"data row4 col0\" >white</td>\n",
              "                        <td id=\"T_98e072cc_f884_11eb_b495_0242ac1c0002row4_col1\" class=\"data row4 col1\" >7.200000</td>\n",
              "                        <td id=\"T_98e072cc_f884_11eb_b495_0242ac1c0002row4_col2\" class=\"data row4 col2\" >0.230000</td>\n",
              "                        <td id=\"T_98e072cc_f884_11eb_b495_0242ac1c0002row4_col3\" class=\"data row4 col3\" >0.320000</td>\n",
              "                        <td id=\"T_98e072cc_f884_11eb_b495_0242ac1c0002row4_col4\" class=\"data row4 col4\" >8.500000</td>\n",
              "                        <td id=\"T_98e072cc_f884_11eb_b495_0242ac1c0002row4_col5\" class=\"data row4 col5\" >0.058000</td>\n",
              "                        <td id=\"T_98e072cc_f884_11eb_b495_0242ac1c0002row4_col6\" class=\"data row4 col6\" >47.000000</td>\n",
              "                        <td id=\"T_98e072cc_f884_11eb_b495_0242ac1c0002row4_col7\" class=\"data row4 col7\" >186.000000</td>\n",
              "                        <td id=\"T_98e072cc_f884_11eb_b495_0242ac1c0002row4_col8\" class=\"data row4 col8\" >0.995600</td>\n",
              "                        <td id=\"T_98e072cc_f884_11eb_b495_0242ac1c0002row4_col9\" class=\"data row4 col9\" >3.190000</td>\n",
              "                        <td id=\"T_98e072cc_f884_11eb_b495_0242ac1c0002row4_col10\" class=\"data row4 col10\" >0.400000</td>\n",
              "                        <td id=\"T_98e072cc_f884_11eb_b495_0242ac1c0002row4_col11\" class=\"data row4 col11\" >9.900000</td>\n",
              "                        <td id=\"T_98e072cc_f884_11eb_b495_0242ac1c0002row4_col12\" class=\"data row4 col12\" >6</td>\n",
              "            </tr>\n",
              "    </tbody></table>"
            ],
            "text/plain": [
              "<pandas.io.formats.style.Styler at 0x7f9b1252ff90>"
            ]
          },
          "metadata": {
            "tags": []
          },
          "execution_count": 120
        }
      ]
    },
    {
      "cell_type": "markdown",
      "metadata": {
        "id": "JELaCBSeU6NO"
      },
      "source": [
        "We can show the plot line graph for comparison between type white and red vs chorides."
      ]
    },
    {
      "cell_type": "code",
      "metadata": {
        "colab": {
          "base_uri": "https://localhost:8080/",
          "height": 282
        },
        "id": "DulKE3d4dDWk",
        "outputId": "7cd83387-7493-4bbb-8d1f-3ba1bf1c44ec"
      },
      "source": [
        "import matplotlib.pyplot as plt\n",
        "\n",
        "plt.plot(wineData['type'], wineData['chlorides'], label='chlorides') "
      ],
      "execution_count": 121,
      "outputs": [
        {
          "output_type": "execute_result",
          "data": {
            "text/plain": [
              "[<matplotlib.lines.Line2D at 0x7f9b12494490>]"
            ]
          },
          "metadata": {
            "tags": []
          },
          "execution_count": 121
        },
        {
          "output_type": "display_data",
          "data": {
            "image/png": "[encoded data removed]",
            "text/plain": [
              "<Figure size 432x288 with 1 Axes>"
            ]
          },
          "metadata": {
            "tags": [],
            "needs_background": "light"
          }
        }
      ]
    },
    {
      "cell_type": "markdown",
      "metadata": {
        "id": "237jb70VVOTP"
      },
      "source": [
        "Below graph shows the bar graph distinct plot for **Density** vs **Alcohol**"
      ]
    },
    {
      "cell_type": "code",
      "metadata": {
        "colab": {
          "base_uri": "https://localhost:8080/",
          "height": 350
        },
        "id": "R0eMqsQjjx66",
        "outputId": "b4c0c416-62a0-4867-8090-eb4d8184240b"
      },
      "source": [
        "fig = plt.figure(figsize = (10, 4))\n",
        "sns.distplot([\"alcohol\"], color = \"purple\")\n"
      ],
      "execution_count": 129,
      "outputs": [
        {
          "output_type": "stream",
          "text": [
            "/usr/local/lib/python3.7/dist-packages/seaborn/distributions.py:2557: FutureWarning: `distplot` is a deprecated function and will be removed in a future version. Please adapt your code to use either `displot` (a figure-level function with similar flexibility) or `histplot` (an axes-level function for histograms).\n",
            "  warnings.warn(msg, FutureWarning)\n"
          ],
          "name": "stderr"
        },
        {
          "output_type": "execute_result",
          "data": {
            "text/plain": [
              "<matplotlib.axes._subplots.AxesSubplot at 0x7f9b123468d0>"
            ]
          },
          "metadata": {
            "tags": []
          },
          "execution_count": 129
        },
        {
          "output_type": "display_data",
          "data": {
            "image/png": "[encoded data removed]",
            "text/plain": [
              "<Figure size 720x288 with 1 Axes>"
            ]
          },
          "metadata": {
            "tags": [],
            "needs_background": "light"
          }
        }
      ]
    },
    {
      "cell_type": "markdown",
      "metadata": {
        "id": "PkZwDB_aVfEW"
      },
      "source": [
        "This below scatter plot shows the relationship between the **Residual** sugar vs **Alcohol**.\n"
      ]
    },
    {
      "cell_type": "code",
      "metadata": {
        "colab": {
          "base_uri": "https://localhost:8080/",
          "height": 405
        },
        "id": "MTCl56WT8wgx",
        "outputId": "2b68b365-91c0-43e5-c01c-8196a2f936a6"
      },
      "source": [
        "fig = plt.figure(figsize = (6, 6))\n",
        "sns.scatterplot(x = \"residual sugar\", y = \"alcohol\", data = train)"
      ],
      "execution_count": 131,
      "outputs": [
        {
          "output_type": "execute_result",
          "data": {
            "text/plain": [
              "<matplotlib.axes._subplots.AxesSubplot at 0x7f9b11f90110>"
            ]
          },
          "metadata": {
            "tags": []
          },
          "execution_count": 131
        },
        {
          "output_type": "display_data",
          "data": {
            "image/png": "[encoded data removed]",
            "text/plain": [
              "<Figure size 432x432 with 1 Axes>"
            ]
          },
          "metadata": {
            "tags": [],
            "needs_background": "light"
          }
        }
      ]
    },
    {
      "cell_type": "markdown",
      "metadata": {
        "id": "UKP9zZnfo-jH"
      },
      "source": [
        "Residual Sugar Vs Density by adding the type of the sugar, where the scatter plot can be in the readable form."
      ]
    },
    {
      "cell_type": "code",
      "metadata": {
        "colab": {
          "base_uri": "https://localhost:8080/",
          "height": 296
        },
        "id": "6lA0e0H8hQkt",
        "outputId": "067cdee6-e67a-41a3-a9de-87f21bcdee4e"
      },
      "source": [
        "sns.scatterplot(x = \"residual sugar\", y = \"density\", hue = \"type\", data = train, alpha = 0.4)"
      ],
      "execution_count": 147,
      "outputs": [
        {
          "output_type": "execute_result",
          "data": {
            "text/plain": [
              "<matplotlib.axes._subplots.AxesSubplot at 0x7f9b117bc950>"
            ]
          },
          "metadata": {
            "tags": []
          },
          "execution_count": 147
        },
        {
          "output_type": "display_data",
          "data": {
            "image/png": "[encoded data removed]",
            "text/plain": [
              "<Figure size 432x288 with 1 Axes>"
            ]
          },
          "metadata": {
            "tags": [],
            "needs_background": "light"
          }
        }
      ]
    },
    {
      "cell_type": "markdown",
      "metadata": {
        "id": "T4TwWiUxVnXZ"
      },
      "source": [
        "This varius subtypes of line plot graphs shows the alcohol vs types and volatile acidity vs type."
      ]
    },
    {
      "cell_type": "code",
      "metadata": {
        "colab": {
          "base_uri": "https://localhost:8080/",
          "height": 282
        },
        "id": "8tVxWWI0ZlMV",
        "outputId": "80cdf4e3-edca-416e-9b51-31954dad248f"
      },
      "source": [
        "plt.plot(wineData['type'], wineData['alcohol'], 'r-')\n",
        "plt.plot(wineData['type'], wineData['alcohol']*2, 'bs')\n",
        "plt.plot(wineData['type'], wineData['alcohol']*3, 'g^')\n"
      ],
      "execution_count": 132,
      "outputs": [
        {
          "output_type": "execute_result",
          "data": {
            "text/plain": [
              "[<matplotlib.lines.Line2D at 0x7f9b11eed7d0>]"
            ]
          },
          "metadata": {
            "tags": []
          },
          "execution_count": 132
        },
        {
          "output_type": "display_data",
          "data": {
            "image/png": "[encoded data removed]",
            "text/plain": [
              "<Figure size 432x288 with 1 Axes>"
            ]
          },
          "metadata": {
            "tags": [],
            "needs_background": "light"
          }
        }
      ]
    }
  ]
}